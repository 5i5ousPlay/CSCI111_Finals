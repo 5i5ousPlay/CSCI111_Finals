{
 "cells": [
  {
   "cell_type": "markdown",
   "source": [
    "# CSCI 111 Finals Project: Comparative Analysis of Gradient Boosting and Neural Networks in Classifying Stellar Bodies\n",
    "\n",
    "*Submitted by Raul Jarod C. Conanan BSMS Computer Science in partial fulfillment of the finals project for CSCI 111 - Introduction to Artificial Intelligence 2023-2024*\n",
    "\n",
    "**WARNING:** Please do not try running this on your local machine if it is not reasonably powerful. The following notebook takes around 45 minutes to run on a machine with an i7 10750H and 32GB of RAM. It is recommended that this be run on a Colab or Sagemaker Lab instance."
   ],
   "metadata": {
    "collapsed": false
   },
   "id": "5b7844c5115ee2ae"
  },
  {
   "cell_type": "markdown",
   "source": [
    "## Dataset\n",
    "\n",
    "The data set used in this notebook was retrieved from https://www.kaggle.com/datasets/fedesoriano/stellar-classification-dataset-sdss17. The dataset comprises 100,000 space observations from the Sloan Digital Sky Survey (SDSS). Each observation is characterized by 17 feature columns and 1 class column, indicating whether it corresponds to a star, galaxy, or quasar.\n",
    "\n",
    "1. obj_ID = Object Identifier, the unique value that identifies the object in the image catalog used by the CAS\n",
    "2. alpha = Right Ascension angle (at J2000 epoch)\n",
    "3. delta = Declination angle (at J2000 epoch)\n",
    "4. u = Ultraviolet filter in the photometric system\n",
    "5. g = Green filter in the photometric system\n",
    "6. r = Red filter in the photometric system\n",
    "7. i = Near Infrared filter in the photometric system\n",
    "8. z = Infrared filter in the photometric system\n",
    "9. run_ID = Run Number used to identify the specific scan\n",
    "10. rereun_ID = Rerun Number to specify how the image was processed\n",
    "11. cam_col = Camera column to identify the scanline within the run\n",
    "12. field_ID = Field number to identify each field\n",
    "13. spec_obj_ID = Unique ID used for optical spectroscopic objects (this means that 2 different observations with the same spec_obj_ID must share the output class)\n",
    "14. class = object class (galaxy, star or quasar object)\n",
    "15. redshift = redshift value based on the increase in wavelength\n",
    "16. plate = plate ID, identifies each plate in SDSS\n",
    "17. MJD = Modified Julian Date, used to indicate when a given piece of SDSS data was taken\n",
    "18. fiber_ID = fiber ID that identifies the fiber that pointed the light at the focal plane in each observation\n",
    "\n",
    "Our task, therefore, is to predict the class of the stellar body depending on the features provided\n",
    "\n",
    "fedesoriano. (January 2022). Stellar Classification Dataset - SDSS17. Retrieved [4/8/2024] from https://www.kaggle.com/fedesoriano/stellar-classification-dataset-sdss17."
   ],
   "metadata": {
    "collapsed": false
   },
   "id": "d1f526ea9b90b798"
  },
  {
   "cell_type": "markdown",
   "source": [
    "## Models Used\n",
    "\n",
    "For this project, we will be comparing the performance of two different models to accomplish this classification task. Hyperparameter tuning will be done, but it will not be extremely intensive given both the limited computational resources and time available. The goal is to get performance metrics (i.e f1, recall, accuracy, precision) for both models which are \"good enough\" within the context of a course's final project, and comparing the ways these two models differ in both how they are trained, how they adapt to training data, and how they perform to test / evaluation data. With that said the following two models are to be compared:\n",
    "\n",
    "### XGB (Extreme Gradient Boosting) Gradient Boosted Decision Tree\n",
    "\n",
    "XGBoost is a high-performance library for gradient boosting that excels in classification tasks. It offers speed and efficiency, even with large datasets, through parallel processing and tree pruning. XGBoost provides built-in regularization to prevent overfitting, handles missing values well, and offers flexibility with objective functions and evaluation criteria. It is effective for unbalanced data, providing options to handle class imbalance. However, XGBoost can be complex to tune due to its many hyperparameters, computationally intensive with many or deep trees, and less interpretable compared to simpler models.\n",
    "\n",
    "### Tensorflow Deep Neural Network\n",
    "\n",
    "TensorFlow's Keras API simplifies the creation of deep neural networks (DNNs) for classification tasks, offering flexibility in building various architectures like CNNs and RNNs. DNNs excel in capturing complex patterns and can scale to large datasets with GPU acceleration. TensorFlow Keras provides tools to handle unbalanced data, such as class weights and oversampling/undersampling. However, training DNNs can be computationally intensive and require careful tuning. While DNNs offer high performance and can learn intricate features, they may be less interpretable than simpler models and require substantial amounts of data for training to avoid overfitting."
   ],
   "metadata": {
    "collapsed": false
   },
   "id": "1bff0a3031844773"
  },
  {
   "cell_type": "markdown",
   "source": [
    "## Loading Data\n",
    "\n",
    "If you are running this notebook on a colab instance uncomment the cell below and specify the path to the file (included in the zip under the dataset directory). Otherwise (i.e locally) use the subsequent cell to load your data by specifying the filepath."
   ],
   "metadata": {
    "collapsed": false
   },
   "id": "4a89f02bbc64c9ff"
  },
  {
   "cell_type": "code",
   "execution_count": null,
   "outputs": [],
   "source": [
    "# from google.colab import drive\n",
    "# import pandas as pd\n",
    "# drive.mount('/content/drive')\n",
    "# \n",
    "# file_location = '/content/drive/MyDrive/path/to/dataset/file/star_classification.csv'\n",
    "# data = pd.read_csv(file_location)\n",
    "# data"
   ],
   "metadata": {
    "collapsed": false
   },
   "id": "194dfbf33583e332"
  },
  {
   "cell_type": "code",
   "execution_count": 197,
   "id": "initial_id",
   "metadata": {
    "collapsed": true,
    "ExecuteTime": {
     "end_time": "2024-04-10T16:52:37.713937200Z",
     "start_time": "2024-04-10T16:52:37.478078600Z"
    }
   },
   "outputs": [
    {
     "data": {
      "text/plain": "             obj_ID       alpha      delta         u         g         r  \\\n0      1.237661e+18  135.689107  32.494632  23.87882  22.27530  20.39501   \n1      1.237665e+18  144.826101  31.274185  24.77759  22.83188  22.58444   \n2      1.237661e+18  142.188790  35.582444  25.26307  22.66389  20.60976   \n3      1.237663e+18  338.741038  -0.402828  22.13682  23.77656  21.61162   \n4      1.237680e+18  345.282593  21.183866  19.43718  17.58028  16.49747   \n...             ...         ...        ...       ...       ...       ...   \n99995  1.237679e+18   39.620709  -2.594074  22.16759  22.97586  21.90404   \n99996  1.237679e+18   29.493819  19.798874  22.69118  22.38628  20.45003   \n99997  1.237668e+18  224.587407  15.700707  21.16916  19.26997  18.20428   \n99998  1.237661e+18  212.268621  46.660365  25.35039  21.63757  19.91386   \n99999  1.237661e+18  196.896053  49.464643  22.62171  21.79745  20.60115   \n\n              i         z  run_ID  rerun_ID  cam_col  field_ID   spec_obj_ID  \\\n0      19.16573  18.79371    3606       301        2        79  6.543777e+18   \n1      21.16812  21.61427    4518       301        5       119  1.176014e+19   \n2      19.34857  18.94827    3606       301        2       120  5.152200e+18   \n3      20.50454  19.25010    4192       301        3       214  1.030107e+19   \n4      15.97711  15.54461    8102       301        3       137  6.891865e+18   \n...         ...       ...     ...       ...      ...       ...           ...   \n99995  21.30548  20.73569    7778       301        2       581  1.055431e+19   \n99996  19.75759  19.41526    7917       301        1       289  8.586351e+18   \n99997  17.69034  17.35221    5314       301        4       308  3.112008e+18   \n99998  19.07254  18.62482    3650       301        4       131  7.601080e+18   \n99999  20.00959  19.28075    3650       301        4        60  8.343152e+18   \n\n        class  redshift  plate    MJD  fiber_ID  \n0      GALAXY  0.634794   5812  56354       171  \n1      GALAXY  0.779136  10445  58158       427  \n2      GALAXY  0.644195   4576  55592       299  \n3      GALAXY  0.932346   9149  58039       775  \n4      GALAXY  0.116123   6121  56187       842  \n...       ...       ...    ...    ...       ...  \n99995  GALAXY  0.000000   9374  57749       438  \n99996  GALAXY  0.404895   7626  56934       866  \n99997  GALAXY  0.143366   2764  54535        74  \n99998  GALAXY  0.455040   6751  56368       470  \n99999  GALAXY  0.542944   7410  57104       851  \n\n[100000 rows x 18 columns]",
      "text/html": "<div>\n<style scoped>\n    .dataframe tbody tr th:only-of-type {\n        vertical-align: middle;\n    }\n\n    .dataframe tbody tr th {\n        vertical-align: top;\n    }\n\n    .dataframe thead th {\n        text-align: right;\n    }\n</style>\n<table border=\"1\" class=\"dataframe\">\n  <thead>\n    <tr style=\"text-align: right;\">\n      <th></th>\n      <th>obj_ID</th>\n      <th>alpha</th>\n      <th>delta</th>\n      <th>u</th>\n      <th>g</th>\n      <th>r</th>\n      <th>i</th>\n      <th>z</th>\n      <th>run_ID</th>\n      <th>rerun_ID</th>\n      <th>cam_col</th>\n      <th>field_ID</th>\n      <th>spec_obj_ID</th>\n      <th>class</th>\n      <th>redshift</th>\n      <th>plate</th>\n      <th>MJD</th>\n      <th>fiber_ID</th>\n    </tr>\n  </thead>\n  <tbody>\n    <tr>\n      <th>0</th>\n      <td>1.237661e+18</td>\n      <td>135.689107</td>\n      <td>32.494632</td>\n      <td>23.87882</td>\n      <td>22.27530</td>\n      <td>20.39501</td>\n      <td>19.16573</td>\n      <td>18.79371</td>\n      <td>3606</td>\n      <td>301</td>\n      <td>2</td>\n      <td>79</td>\n      <td>6.543777e+18</td>\n      <td>GALAXY</td>\n      <td>0.634794</td>\n      <td>5812</td>\n      <td>56354</td>\n      <td>171</td>\n    </tr>\n    <tr>\n      <th>1</th>\n      <td>1.237665e+18</td>\n      <td>144.826101</td>\n      <td>31.274185</td>\n      <td>24.77759</td>\n      <td>22.83188</td>\n      <td>22.58444</td>\n      <td>21.16812</td>\n      <td>21.61427</td>\n      <td>4518</td>\n      <td>301</td>\n      <td>5</td>\n      <td>119</td>\n      <td>1.176014e+19</td>\n      <td>GALAXY</td>\n      <td>0.779136</td>\n      <td>10445</td>\n      <td>58158</td>\n      <td>427</td>\n    </tr>\n    <tr>\n      <th>2</th>\n      <td>1.237661e+18</td>\n      <td>142.188790</td>\n      <td>35.582444</td>\n      <td>25.26307</td>\n      <td>22.66389</td>\n      <td>20.60976</td>\n      <td>19.34857</td>\n      <td>18.94827</td>\n      <td>3606</td>\n      <td>301</td>\n      <td>2</td>\n      <td>120</td>\n      <td>5.152200e+18</td>\n      <td>GALAXY</td>\n      <td>0.644195</td>\n      <td>4576</td>\n      <td>55592</td>\n      <td>299</td>\n    </tr>\n    <tr>\n      <th>3</th>\n      <td>1.237663e+18</td>\n      <td>338.741038</td>\n      <td>-0.402828</td>\n      <td>22.13682</td>\n      <td>23.77656</td>\n      <td>21.61162</td>\n      <td>20.50454</td>\n      <td>19.25010</td>\n      <td>4192</td>\n      <td>301</td>\n      <td>3</td>\n      <td>214</td>\n      <td>1.030107e+19</td>\n      <td>GALAXY</td>\n      <td>0.932346</td>\n      <td>9149</td>\n      <td>58039</td>\n      <td>775</td>\n    </tr>\n    <tr>\n      <th>4</th>\n      <td>1.237680e+18</td>\n      <td>345.282593</td>\n      <td>21.183866</td>\n      <td>19.43718</td>\n      <td>17.58028</td>\n      <td>16.49747</td>\n      <td>15.97711</td>\n      <td>15.54461</td>\n      <td>8102</td>\n      <td>301</td>\n      <td>3</td>\n      <td>137</td>\n      <td>6.891865e+18</td>\n      <td>GALAXY</td>\n      <td>0.116123</td>\n      <td>6121</td>\n      <td>56187</td>\n      <td>842</td>\n    </tr>\n    <tr>\n      <th>...</th>\n      <td>...</td>\n      <td>...</td>\n      <td>...</td>\n      <td>...</td>\n      <td>...</td>\n      <td>...</td>\n      <td>...</td>\n      <td>...</td>\n      <td>...</td>\n      <td>...</td>\n      <td>...</td>\n      <td>...</td>\n      <td>...</td>\n      <td>...</td>\n      <td>...</td>\n      <td>...</td>\n      <td>...</td>\n      <td>...</td>\n    </tr>\n    <tr>\n      <th>99995</th>\n      <td>1.237679e+18</td>\n      <td>39.620709</td>\n      <td>-2.594074</td>\n      <td>22.16759</td>\n      <td>22.97586</td>\n      <td>21.90404</td>\n      <td>21.30548</td>\n      <td>20.73569</td>\n      <td>7778</td>\n      <td>301</td>\n      <td>2</td>\n      <td>581</td>\n      <td>1.055431e+19</td>\n      <td>GALAXY</td>\n      <td>0.000000</td>\n      <td>9374</td>\n      <td>57749</td>\n      <td>438</td>\n    </tr>\n    <tr>\n      <th>99996</th>\n      <td>1.237679e+18</td>\n      <td>29.493819</td>\n      <td>19.798874</td>\n      <td>22.69118</td>\n      <td>22.38628</td>\n      <td>20.45003</td>\n      <td>19.75759</td>\n      <td>19.41526</td>\n      <td>7917</td>\n      <td>301</td>\n      <td>1</td>\n      <td>289</td>\n      <td>8.586351e+18</td>\n      <td>GALAXY</td>\n      <td>0.404895</td>\n      <td>7626</td>\n      <td>56934</td>\n      <td>866</td>\n    </tr>\n    <tr>\n      <th>99997</th>\n      <td>1.237668e+18</td>\n      <td>224.587407</td>\n      <td>15.700707</td>\n      <td>21.16916</td>\n      <td>19.26997</td>\n      <td>18.20428</td>\n      <td>17.69034</td>\n      <td>17.35221</td>\n      <td>5314</td>\n      <td>301</td>\n      <td>4</td>\n      <td>308</td>\n      <td>3.112008e+18</td>\n      <td>GALAXY</td>\n      <td>0.143366</td>\n      <td>2764</td>\n      <td>54535</td>\n      <td>74</td>\n    </tr>\n    <tr>\n      <th>99998</th>\n      <td>1.237661e+18</td>\n      <td>212.268621</td>\n      <td>46.660365</td>\n      <td>25.35039</td>\n      <td>21.63757</td>\n      <td>19.91386</td>\n      <td>19.07254</td>\n      <td>18.62482</td>\n      <td>3650</td>\n      <td>301</td>\n      <td>4</td>\n      <td>131</td>\n      <td>7.601080e+18</td>\n      <td>GALAXY</td>\n      <td>0.455040</td>\n      <td>6751</td>\n      <td>56368</td>\n      <td>470</td>\n    </tr>\n    <tr>\n      <th>99999</th>\n      <td>1.237661e+18</td>\n      <td>196.896053</td>\n      <td>49.464643</td>\n      <td>22.62171</td>\n      <td>21.79745</td>\n      <td>20.60115</td>\n      <td>20.00959</td>\n      <td>19.28075</td>\n      <td>3650</td>\n      <td>301</td>\n      <td>4</td>\n      <td>60</td>\n      <td>8.343152e+18</td>\n      <td>GALAXY</td>\n      <td>0.542944</td>\n      <td>7410</td>\n      <td>57104</td>\n      <td>851</td>\n    </tr>\n  </tbody>\n</table>\n<p>100000 rows × 18 columns</p>\n</div>"
     },
     "execution_count": 197,
     "metadata": {},
     "output_type": "execute_result"
    }
   ],
   "source": [
    "import pandas as pd\n",
    "\n",
    "data = pd.read_csv(\"dataset/star_classification.csv\")\n",
    "data"
   ]
  },
  {
   "cell_type": "code",
   "execution_count": 2,
   "outputs": [
    {
     "data": {
      "text/plain": "obj_ID         0\nalpha          0\ndelta          0\nu              0\ng              0\nr              0\ni              0\nz              0\nrun_ID         0\nrerun_ID       0\ncam_col        0\nfield_ID       0\nspec_obj_ID    0\nclass          0\nredshift       0\nplate          0\nMJD            0\nfiber_ID       0\ndtype: int64"
     },
     "execution_count": 2,
     "metadata": {},
     "output_type": "execute_result"
    }
   ],
   "source": [
    "data.isnull().sum()"
   ],
   "metadata": {
    "collapsed": false,
    "ExecuteTime": {
     "end_time": "2024-04-10T09:04:48.584658900Z",
     "start_time": "2024-04-10T09:04:48.561266800Z"
    }
   },
   "id": "dcd8a327bc088bdc"
  },
  {
   "cell_type": "code",
   "execution_count": 3,
   "outputs": [
    {
     "name": "stdout",
     "output_type": "stream",
     "text": [
      "<class 'pandas.core.frame.DataFrame'>\n",
      "RangeIndex: 100000 entries, 0 to 99999\n",
      "Data columns (total 18 columns):\n",
      " #   Column       Non-Null Count   Dtype  \n",
      "---  ------       --------------   -----  \n",
      " 0   obj_ID       100000 non-null  float64\n",
      " 1   alpha        100000 non-null  float64\n",
      " 2   delta        100000 non-null  float64\n",
      " 3   u            100000 non-null  float64\n",
      " 4   g            100000 non-null  float64\n",
      " 5   r            100000 non-null  float64\n",
      " 6   i            100000 non-null  float64\n",
      " 7   z            100000 non-null  float64\n",
      " 8   run_ID       100000 non-null  int64  \n",
      " 9   rerun_ID     100000 non-null  int64  \n",
      " 10  cam_col      100000 non-null  int64  \n",
      " 11  field_ID     100000 non-null  int64  \n",
      " 12  spec_obj_ID  100000 non-null  float64\n",
      " 13  class        100000 non-null  object \n",
      " 14  redshift     100000 non-null  float64\n",
      " 15  plate        100000 non-null  int64  \n",
      " 16  MJD          100000 non-null  int64  \n",
      " 17  fiber_ID     100000 non-null  int64  \n",
      "dtypes: float64(10), int64(7), object(1)\n",
      "memory usage: 13.7+ MB\n"
     ]
    }
   ],
   "source": [
    "data.info()"
   ],
   "metadata": {
    "collapsed": false,
    "ExecuteTime": {
     "end_time": "2024-04-10T09:04:54.816246700Z",
     "start_time": "2024-04-10T09:04:54.797732Z"
    }
   },
   "id": "e66b77f6dac8912b"
  },
  {
   "cell_type": "code",
   "execution_count": 4,
   "outputs": [
    {
     "data": {
      "text/plain": "            alpha      delta         u         g         r         i  \\\n0      135.689107  32.494632  23.87882  22.27530  20.39501  19.16573   \n1      144.826101  31.274185  24.77759  22.83188  22.58444  21.16812   \n2      142.188790  35.582444  25.26307  22.66389  20.60976  19.34857   \n3      338.741038  -0.402828  22.13682  23.77656  21.61162  20.50454   \n4      345.282593  21.183866  19.43718  17.58028  16.49747  15.97711   \n...           ...        ...       ...       ...       ...       ...   \n99995   39.620709  -2.594074  22.16759  22.97586  21.90404  21.30548   \n99996   29.493819  19.798874  22.69118  22.38628  20.45003  19.75759   \n99997  224.587407  15.700707  21.16916  19.26997  18.20428  17.69034   \n99998  212.268621  46.660365  25.35039  21.63757  19.91386  19.07254   \n99999  196.896053  49.464643  22.62171  21.79745  20.60115  20.00959   \n\n              z   spec_obj_ID   class  redshift  \n0      18.79371  6.543777e+18  GALAXY  0.634794  \n1      21.61427  1.176014e+19  GALAXY  0.779136  \n2      18.94827  5.152200e+18  GALAXY  0.644195  \n3      19.25010  1.030107e+19  GALAXY  0.932346  \n4      15.54461  6.891865e+18  GALAXY  0.116123  \n...         ...           ...     ...       ...  \n99995  20.73569  1.055431e+19  GALAXY  0.000000  \n99996  19.41526  8.586351e+18  GALAXY  0.404895  \n99997  17.35221  3.112008e+18  GALAXY  0.143366  \n99998  18.62482  7.601080e+18  GALAXY  0.455040  \n99999  19.28075  8.343152e+18  GALAXY  0.542944  \n\n[100000 rows x 10 columns]",
      "text/html": "<div>\n<style scoped>\n    .dataframe tbody tr th:only-of-type {\n        vertical-align: middle;\n    }\n\n    .dataframe tbody tr th {\n        vertical-align: top;\n    }\n\n    .dataframe thead th {\n        text-align: right;\n    }\n</style>\n<table border=\"1\" class=\"dataframe\">\n  <thead>\n    <tr style=\"text-align: right;\">\n      <th></th>\n      <th>alpha</th>\n      <th>delta</th>\n      <th>u</th>\n      <th>g</th>\n      <th>r</th>\n      <th>i</th>\n      <th>z</th>\n      <th>spec_obj_ID</th>\n      <th>class</th>\n      <th>redshift</th>\n    </tr>\n  </thead>\n  <tbody>\n    <tr>\n      <th>0</th>\n      <td>135.689107</td>\n      <td>32.494632</td>\n      <td>23.87882</td>\n      <td>22.27530</td>\n      <td>20.39501</td>\n      <td>19.16573</td>\n      <td>18.79371</td>\n      <td>6.543777e+18</td>\n      <td>GALAXY</td>\n      <td>0.634794</td>\n    </tr>\n    <tr>\n      <th>1</th>\n      <td>144.826101</td>\n      <td>31.274185</td>\n      <td>24.77759</td>\n      <td>22.83188</td>\n      <td>22.58444</td>\n      <td>21.16812</td>\n      <td>21.61427</td>\n      <td>1.176014e+19</td>\n      <td>GALAXY</td>\n      <td>0.779136</td>\n    </tr>\n    <tr>\n      <th>2</th>\n      <td>142.188790</td>\n      <td>35.582444</td>\n      <td>25.26307</td>\n      <td>22.66389</td>\n      <td>20.60976</td>\n      <td>19.34857</td>\n      <td>18.94827</td>\n      <td>5.152200e+18</td>\n      <td>GALAXY</td>\n      <td>0.644195</td>\n    </tr>\n    <tr>\n      <th>3</th>\n      <td>338.741038</td>\n      <td>-0.402828</td>\n      <td>22.13682</td>\n      <td>23.77656</td>\n      <td>21.61162</td>\n      <td>20.50454</td>\n      <td>19.25010</td>\n      <td>1.030107e+19</td>\n      <td>GALAXY</td>\n      <td>0.932346</td>\n    </tr>\n    <tr>\n      <th>4</th>\n      <td>345.282593</td>\n      <td>21.183866</td>\n      <td>19.43718</td>\n      <td>17.58028</td>\n      <td>16.49747</td>\n      <td>15.97711</td>\n      <td>15.54461</td>\n      <td>6.891865e+18</td>\n      <td>GALAXY</td>\n      <td>0.116123</td>\n    </tr>\n    <tr>\n      <th>...</th>\n      <td>...</td>\n      <td>...</td>\n      <td>...</td>\n      <td>...</td>\n      <td>...</td>\n      <td>...</td>\n      <td>...</td>\n      <td>...</td>\n      <td>...</td>\n      <td>...</td>\n    </tr>\n    <tr>\n      <th>99995</th>\n      <td>39.620709</td>\n      <td>-2.594074</td>\n      <td>22.16759</td>\n      <td>22.97586</td>\n      <td>21.90404</td>\n      <td>21.30548</td>\n      <td>20.73569</td>\n      <td>1.055431e+19</td>\n      <td>GALAXY</td>\n      <td>0.000000</td>\n    </tr>\n    <tr>\n      <th>99996</th>\n      <td>29.493819</td>\n      <td>19.798874</td>\n      <td>22.69118</td>\n      <td>22.38628</td>\n      <td>20.45003</td>\n      <td>19.75759</td>\n      <td>19.41526</td>\n      <td>8.586351e+18</td>\n      <td>GALAXY</td>\n      <td>0.404895</td>\n    </tr>\n    <tr>\n      <th>99997</th>\n      <td>224.587407</td>\n      <td>15.700707</td>\n      <td>21.16916</td>\n      <td>19.26997</td>\n      <td>18.20428</td>\n      <td>17.69034</td>\n      <td>17.35221</td>\n      <td>3.112008e+18</td>\n      <td>GALAXY</td>\n      <td>0.143366</td>\n    </tr>\n    <tr>\n      <th>99998</th>\n      <td>212.268621</td>\n      <td>46.660365</td>\n      <td>25.35039</td>\n      <td>21.63757</td>\n      <td>19.91386</td>\n      <td>19.07254</td>\n      <td>18.62482</td>\n      <td>7.601080e+18</td>\n      <td>GALAXY</td>\n      <td>0.455040</td>\n    </tr>\n    <tr>\n      <th>99999</th>\n      <td>196.896053</td>\n      <td>49.464643</td>\n      <td>22.62171</td>\n      <td>21.79745</td>\n      <td>20.60115</td>\n      <td>20.00959</td>\n      <td>19.28075</td>\n      <td>8.343152e+18</td>\n      <td>GALAXY</td>\n      <td>0.542944</td>\n    </tr>\n  </tbody>\n</table>\n<p>100000 rows × 10 columns</p>\n</div>"
     },
     "execution_count": 4,
     "metadata": {},
     "output_type": "execute_result"
    }
   ],
   "source": [
    "data = data.drop(['obj_ID', 'run_ID', 'rerun_ID', 'cam_col', 'field_ID', 'plate', 'MJD', 'fiber_ID'], axis=1)\n",
    "data"
   ],
   "metadata": {
    "collapsed": false,
    "ExecuteTime": {
     "end_time": "2024-04-10T09:04:59.701295600Z",
     "start_time": "2024-04-10T09:04:59.676663300Z"
    }
   },
   "id": "6269f66be29e6e48"
  },
  {
   "cell_type": "markdown",
   "source": [
    "Here we drop most of the ID fields and retain spec_obj_ID given the earlier stated need for objects having the same spec_obj_ID to have the same classification. The rest we remove, given their relation to the classification task."
   ],
   "metadata": {
    "collapsed": false
   },
   "id": "15f78ed8470c682b"
  },
  {
   "cell_type": "markdown",
   "source": [
    "## Class Distribution"
   ],
   "metadata": {
    "collapsed": false
   },
   "id": "6ea53b2695367ebe"
  },
  {
   "cell_type": "code",
   "execution_count": 184,
   "outputs": [],
   "source": [
    "import seaborn as sns\n",
    "import matplotlib.pyplot as plt"
   ],
   "metadata": {
    "collapsed": false,
    "ExecuteTime": {
     "end_time": "2024-04-10T15:30:58.510004Z",
     "start_time": "2024-04-10T15:30:58.502957400Z"
    }
   },
   "id": "9932adbd59498cca"
  },
  {
   "cell_type": "code",
   "execution_count": 185,
   "outputs": [
    {
     "data": {
      "text/plain": "<Figure size 640x480 with 1 Axes>",
      "image/png": "[encoded data removed]"
     },
     "metadata": {},
     "output_type": "display_data"
    }
   ],
   "source": [
    "sns.countplot(x='class', data=data)\n",
    "plt.show()"
   ],
   "metadata": {
    "collapsed": false,
    "ExecuteTime": {
     "end_time": "2024-04-10T15:31:00.175472100Z",
     "start_time": "2024-04-10T15:30:59.966964800Z"
    }
   },
   "id": "1fad9e3bbf995c6f"
  },
  {
   "cell_type": "markdown",
   "source": [
    "Here we see that the class distribution is quite unbalanced, with most of the instances present within our dataset being galaxies. Given this, we can reasonably expect that XGB perform better in this task given the limited dataset size of 100k rows."
   ],
   "metadata": {
    "collapsed": false
   },
   "id": "7874c6d0cfbef49c"
  },
  {
   "cell_type": "markdown",
   "source": [
    "# PREPROCESSING\n",
    "\n",
    "In this section, we do some general preprocessing for passing to both the Gradient Boosted Trees and the Deep Neural Network. We separate the features from the target variables and hot encode the classes given the nature of the problem as a multiclass classification task. "
   ],
   "metadata": {
    "collapsed": false
   },
   "id": "396296abb9c9f359"
  },
  {
   "cell_type": "code",
   "execution_count": 7,
   "outputs": [],
   "source": [
    "from sklearn.model_selection import train_test_split"
   ],
   "metadata": {
    "collapsed": false,
    "ExecuteTime": {
     "end_time": "2024-04-10T09:05:20.375862200Z",
     "start_time": "2024-04-10T09:05:19.869774500Z"
    }
   },
   "id": "a6b0281767c905f5"
  },
  {
   "cell_type": "code",
   "execution_count": 6,
   "outputs": [],
   "source": [
    "X = data.drop(['class'], axis=1).to_numpy()\n",
    "y = data['class']"
   ],
   "metadata": {
    "collapsed": false,
    "ExecuteTime": {
     "end_time": "2024-04-10T09:05:18.325354100Z",
     "start_time": "2024-04-10T09:05:18.317617100Z"
    }
   },
   "id": "d01190c04ef379ed"
  },
  {
   "cell_type": "code",
   "execution_count": 8,
   "outputs": [
    {
     "data": {
      "text/plain": "       GALAXY  QSO  STAR\n0           1    0     0\n1           1    0     0\n2           1    0     0\n3           1    0     0\n4           1    0     0\n...       ...  ...   ...\n99995       1    0     0\n99996       1    0     0\n99997       1    0     0\n99998       1    0     0\n99999       1    0     0\n\n[100000 rows x 3 columns]",
      "text/html": "<div>\n<style scoped>\n    .dataframe tbody tr th:only-of-type {\n        vertical-align: middle;\n    }\n\n    .dataframe tbody tr th {\n        vertical-align: top;\n    }\n\n    .dataframe thead th {\n        text-align: right;\n    }\n</style>\n<table border=\"1\" class=\"dataframe\">\n  <thead>\n    <tr style=\"text-align: right;\">\n      <th></th>\n      <th>GALAXY</th>\n      <th>QSO</th>\n      <th>STAR</th>\n    </tr>\n  </thead>\n  <tbody>\n    <tr>\n      <th>0</th>\n      <td>1</td>\n      <td>0</td>\n      <td>0</td>\n    </tr>\n    <tr>\n      <th>1</th>\n      <td>1</td>\n      <td>0</td>\n      <td>0</td>\n    </tr>\n    <tr>\n      <th>2</th>\n      <td>1</td>\n      <td>0</td>\n      <td>0</td>\n    </tr>\n    <tr>\n      <th>3</th>\n      <td>1</td>\n      <td>0</td>\n      <td>0</td>\n    </tr>\n    <tr>\n      <th>4</th>\n      <td>1</td>\n      <td>0</td>\n      <td>0</td>\n    </tr>\n    <tr>\n      <th>...</th>\n      <td>...</td>\n      <td>...</td>\n      <td>...</td>\n    </tr>\n    <tr>\n      <th>99995</th>\n      <td>1</td>\n      <td>0</td>\n      <td>0</td>\n    </tr>\n    <tr>\n      <th>99996</th>\n      <td>1</td>\n      <td>0</td>\n      <td>0</td>\n    </tr>\n    <tr>\n      <th>99997</th>\n      <td>1</td>\n      <td>0</td>\n      <td>0</td>\n    </tr>\n    <tr>\n      <th>99998</th>\n      <td>1</td>\n      <td>0</td>\n      <td>0</td>\n    </tr>\n    <tr>\n      <th>99999</th>\n      <td>1</td>\n      <td>0</td>\n      <td>0</td>\n    </tr>\n  </tbody>\n</table>\n<p>100000 rows × 3 columns</p>\n</div>"
     },
     "execution_count": 8,
     "metadata": {},
     "output_type": "execute_result"
    }
   ],
   "source": [
    "y_encoded = pd.get_dummies(y, dtype=int)\n",
    "y_encoded"
   ],
   "metadata": {
    "collapsed": false,
    "ExecuteTime": {
     "end_time": "2024-04-10T09:05:24.700613200Z",
     "start_time": "2024-04-10T09:05:24.667872Z"
    }
   },
   "id": "c4668951e7882d16"
  },
  {
   "cell_type": "code",
   "execution_count": 9,
   "outputs": [],
   "source": [
    "X_train, X_test, y_train, y_test = train_test_split(X, y_encoded, test_size=0.2, random_state=42)"
   ],
   "metadata": {
    "collapsed": false,
    "ExecuteTime": {
     "end_time": "2024-04-10T09:05:37.365656900Z",
     "start_time": "2024-04-10T09:05:37.338222200Z"
    }
   },
   "id": "b69f055aa484d77"
  },
  {
   "cell_type": "markdown",
   "source": [
    "# GRADIENT BOOSTING WITH XGBOOST"
   ],
   "metadata": {
    "collapsed": false
   },
   "id": "fdd47aa3961c1a26"
  },
  {
   "cell_type": "markdown",
   "source": [
    "## XGBoost Classifier\n",
    "\n",
    "Gradient boosting is generally less sensitive to class imbalance and can inherently handle the imbalance through the sequential construction of trees. For this reason, we can expect a reasonably good score from the different performance metrics (i.e f1 score, recall, etc.) in spite of the class imbalance present within the dataset."
   ],
   "metadata": {
    "collapsed": false
   },
   "id": "120cd96f04de33ed"
  },
  {
   "cell_type": "code",
   "execution_count": 10,
   "outputs": [],
   "source": [
    "from xgboost import dask as dxgb\n",
    "from sklearn.model_selection import RandomizedSearchCV"
   ],
   "metadata": {
    "collapsed": false,
    "ExecuteTime": {
     "end_time": "2024-04-10T09:05:57.021863Z",
     "start_time": "2024-04-10T09:05:56.923015500Z"
    }
   },
   "id": "789aeac7e59b1119"
  },
  {
   "cell_type": "code",
   "execution_count": 11,
   "outputs": [],
   "source": [
    "model = dxgb.XGBClassifier(tree_method='hist', device='cuda')"
   ],
   "metadata": {
    "collapsed": false,
    "ExecuteTime": {
     "end_time": "2024-04-10T09:06:01.329463Z",
     "start_time": "2024-04-10T09:06:01.317650100Z"
    }
   },
   "id": "6ec78bfeb75fb52"
  },
  {
   "cell_type": "markdown",
   "source": [
    "### Hyperparameter Tuning\n",
    "\n",
    "Here we use Randomized Search for tuning the hyperparameters of the XGBoost Classifier. Due to the exhaustive nature of Grid Search and the limited hardware resources and time available for thorough tuning, Randomized Search is chosen as a more efficient alternative. While Randomized Search does not guarantee finding the optimal hyperparameters, it can provide a good approximation within a reasonable time frame. The hyperparameters being tuned include learning rate, colsample_bytree, subsample, max_depth, n_estimators, reg_lambda, and gamma, each with a set of candidate values. \n",
    "\n",
    "1. **learning_rate:** The step size at each iteration of boosting. It is tested with values of 0.1 and 0.01.\n",
    "2. **colsample_bytree:** The fraction of features to consider when building each tree. It is tested with values of 0.6, 0.8, and 1.0.\n",
    "3. **subsample:** The fraction of samples to be used for fitting the individual base learners. It is tested with values of 0.6, 0.8, and 1.0.\n",
    "4. **max_depth:** The maximum depth of the tree. It is tested with values of 3, 5, and 7.\n",
    "5. **n_estimators:** The number of boosting rounds. It is tested with values of 100, 200, 300, and 400.\n",
    "6. **reg_lambda:** L2 regularization term on weights. It is tested with values of 1, 1.5, and 2.\n",
    "7. **gamma:** Minimum loss reduction required to make a further partition on a leaf node of the tree. It is tested with values of 0, 0.1, and 0.3.\n",
    "\n",
    "**NOTE:** This section of the notebook and onwards is **computationally intensive and may cause some systems to struggle**. If you are running this locally, please check your machine's specifications before executing the subsequent cells. **The next cell is coded to utilize 100% of all of your cores.** "
   ],
   "metadata": {
    "collapsed": false
   },
   "id": "1676c940b39b3c4d"
  },
  {
   "cell_type": "code",
   "execution_count": 12,
   "outputs": [
    {
     "name": "stdout",
     "output_type": "stream",
     "text": [
      "Fitting 3 folds for each of 10 candidates, totalling 30 fits\n"
     ]
    },
    {
     "data": {
      "text/plain": "RandomizedSearchCV(cv=3,\n                   estimator=XGBClassifier(base_score=None, booster=None,\n                                           callbacks=None,\n                                           colsample_bylevel=None,\n                                           colsample_bynode=None,\n                                           colsample_bytree=None, device='cuda',\n                                           early_stopping_rounds=None,\n                                           enable_categorical=False,\n                                           eval_metric=None, feature_types=None,\n                                           gamma=None, grow_policy=None,\n                                           importance_type=None,\n                                           interaction_constraints=None,\n                                           learning_ra...\n                                           min_child_weight=None, missing=nan,\n                                           monotone_constraints=None,\n                                           multi_strategy=None,\n                                           n_estimators=None, n_jobs=None,\n                                           num_parallel_tree=None,\n                                           random_state=None, ...),\n                   n_jobs=-1,\n                   param_distributions={'colsample_bytree': [0.6, 0.8, 1.0],\n                                        'gamma': [0, 0.1, 0.3],\n                                        'learning_rate': [0.1, 0.01],\n                                        'max_depth': [3, 5, 7],\n                                        'n_estimators': [100, 200, 300, 400],\n                                        'reg_lambda': [1, 1.5, 2],\n                                        'subsample': [0.6, 0.8, 1.0]},\n                   verbose=2)",
      "text/html": "<style>#sk-container-id-1 {\n  /* Definition of color scheme common for light and dark mode */\n  --sklearn-color-text: black;\n  --sklearn-color-line: gray;\n  /* Definition of color scheme for unfitted estimators */\n  --sklearn-color-unfitted-level-0: #fff5e6;\n  --sklearn-color-unfitted-level-1: #f6e4d2;\n  --sklearn-color-unfitted-level-2: #ffe0b3;\n  --sklearn-color-unfitted-level-3: chocolate;\n  /* Definition of color scheme for fitted estimators */\n  --sklearn-color-fitted-level-0: #f0f8ff;\n  --sklearn-color-fitted-level-1: #d4ebff;\n  --sklearn-color-fitted-level-2: #b3dbfd;\n  --sklearn-color-fitted-level-3: cornflowerblue;\n\n  /* Specific color for light theme */\n  --sklearn-color-text-on-default-background: var(--sg-text-color, var(--theme-code-foreground, var(--jp-content-font-color1, black)));\n  --sklearn-color-background: var(--sg-background-color, var(--theme-background, var(--jp-layout-color0, white)));\n  --sklearn-color-border-box: var(--sg-text-color, var(--theme-code-foreground, var(--jp-content-font-color1, black)));\n  --sklearn-color-icon: #696969;\n\n  @media (prefers-color-scheme: dark) {\n    /* Redefinition of color scheme for dark theme */\n    --sklearn-color-text-on-default-background: var(--sg-text-color, var(--theme-code-foreground, var(--jp-content-font-color1, white)));\n    --sklearn-color-background: var(--sg-background-color, var(--theme-background, var(--jp-layout-color0, #111)));\n    --sklearn-color-border-box: var(--sg-text-color, var(--theme-code-foreground, var(--jp-content-font-color1, white)));\n    --sklearn-color-icon: #878787;\n  }\n}\n\n#sk-container-id-1 {\n  color: var(--sklearn-color-text);\n}\n\n#sk-container-id-1 pre {\n  padding: 0;\n}\n\n#sk-container-id-1 input.sk-hidden--visually {\n  border: 0;\n  clip: rect(1px 1px 1px 1px);\n  clip: rect(1px, 1px, 1px, 1px);\n  height: 1px;\n  margin: -1px;\n  overflow: hidden;\n  padding: 0;\n  position: absolute;\n  width: 1px;\n}\n\n#sk-container-id-1 div.sk-dashed-wrapped {\n  border: 1px dashed var(--sklearn-color-line);\n  margin: 0 0.4em 0.5em 0.4em;\n  box-sizing: border-box;\n  padding-bottom: 0.4em;\n  background-color: var(--sklearn-color-background);\n}\n\n#sk-container-id-1 div.sk-container {\n  /* jupyter's `normalize.less` sets `[hidden] { display: none; }`\n     but bootstrap.min.css set `[hidden] { display: none !important; }`\n     so we also need the `!important` here to be able to override the\n     default hidden behavior on the sphinx rendered scikit-learn.org.\n     See: https://github.com/scikit-learn/scikit-learn/issues/21755 */\n  display: inline-block !important;\n  position: relative;\n}\n\n#sk-container-id-1 div.sk-text-repr-fallback {\n  display: none;\n}\n\ndiv.sk-parallel-item,\ndiv.sk-serial,\ndiv.sk-item {\n  /* draw centered vertical line to link estimators */\n  background-image: linear-gradient(var(--sklearn-color-text-on-default-background), var(--sklearn-color-text-on-default-background));\n  background-size: 2px 100%;\n  background-repeat: no-repeat;\n  background-position: center center;\n}\n\n/* Parallel-specific style estimator block */\n\n#sk-container-id-1 div.sk-parallel-item::after {\n  content: \"\";\n  width: 100%;\n  border-bottom: 2px solid var(--sklearn-color-text-on-default-background);\n  flex-grow: 1;\n}\n\n#sk-container-id-1 div.sk-parallel {\n  display: flex;\n  align-items: stretch;\n  justify-content: center;\n  background-color: var(--sklearn-color-background);\n  position: relative;\n}\n\n#sk-container-id-1 div.sk-parallel-item {\n  display: flex;\n  flex-direction: column;\n}\n\n#sk-container-id-1 div.sk-parallel-item:first-child::after {\n  align-self: flex-end;\n  width: 50%;\n}\n\n#sk-container-id-1 div.sk-parallel-item:last-child::after {\n  align-self: flex-start;\n  width: 50%;\n}\n\n#sk-container-id-1 div.sk-parallel-item:only-child::after {\n  width: 0;\n}\n\n/* Serial-specific style estimator block */\n\n#sk-container-id-1 div.sk-serial {\n  display: flex;\n  flex-direction: column;\n  align-items: center;\n  background-color: var(--sklearn-color-background);\n  padding-right: 1em;\n  padding-left: 1em;\n}\n\n\n/* Toggleable style: style used for estimator/Pipeline/ColumnTransformer box that is\nclickable and can be expanded/collapsed.\n- Pipeline and ColumnTransformer use this feature and define the default style\n- Estimators will overwrite some part of the style using the `sk-estimator` class\n*/\n\n/* Pipeline and ColumnTransformer style (default) */\n\n#sk-container-id-1 div.sk-toggleable {\n  /* Default theme specific background. It is overwritten whether we have a\n  specific estimator or a Pipeline/ColumnTransformer */\n  background-color: var(--sklearn-color-background);\n}\n\n/* Toggleable label */\n#sk-container-id-1 label.sk-toggleable__label {\n  cursor: pointer;\n  display: block;\n  width: 100%;\n  margin-bottom: 0;\n  padding: 0.5em;\n  box-sizing: border-box;\n  text-align: center;\n}\n\n#sk-container-id-1 label.sk-toggleable__label-arrow:before {\n  /* Arrow on the left of the label */\n  content: \"▸\";\n  float: left;\n  margin-right: 0.25em;\n  color: var(--sklearn-color-icon);\n}\n\n#sk-container-id-1 label.sk-toggleable__label-arrow:hover:before {\n  color: var(--sklearn-color-text);\n}\n\n/* Toggleable content - dropdown */\n\n#sk-container-id-1 div.sk-toggleable__content {\n  max-height: 0;\n  max-width: 0;\n  overflow: hidden;\n  text-align: left;\n  /* unfitted */\n  background-color: var(--sklearn-color-unfitted-level-0);\n}\n\n#sk-container-id-1 div.sk-toggleable__content.fitted {\n  /* fitted */\n  background-color: var(--sklearn-color-fitted-level-0);\n}\n\n#sk-container-id-1 div.sk-toggleable__content pre {\n  margin: 0.2em;\n  border-radius: 0.25em;\n  color: var(--sklearn-color-text);\n  /* unfitted */\n  background-color: var(--sklearn-color-unfitted-level-0);\n}\n\n#sk-container-id-1 div.sk-toggleable__content.fitted pre {\n  /* unfitted */\n  background-color: var(--sklearn-color-fitted-level-0);\n}\n\n#sk-container-id-1 input.sk-toggleable__control:checked~div.sk-toggleable__content {\n  /* Expand drop-down */\n  max-height: 200px;\n  max-width: 100%;\n  overflow: auto;\n}\n\n#sk-container-id-1 input.sk-toggleable__control:checked~label.sk-toggleable__label-arrow:before {\n  content: \"▾\";\n}\n\n/* Pipeline/ColumnTransformer-specific style */\n\n#sk-container-id-1 div.sk-label input.sk-toggleable__control:checked~label.sk-toggleable__label {\n  color: var(--sklearn-color-text);\n  background-color: var(--sklearn-color-unfitted-level-2);\n}\n\n#sk-container-id-1 div.sk-label.fitted input.sk-toggleable__control:checked~label.sk-toggleable__label {\n  background-color: var(--sklearn-color-fitted-level-2);\n}\n\n/* Estimator-specific style */\n\n/* Colorize estimator box */\n#sk-container-id-1 div.sk-estimator input.sk-toggleable__control:checked~label.sk-toggleable__label {\n  /* unfitted */\n  background-color: var(--sklearn-color-unfitted-level-2);\n}\n\n#sk-container-id-1 div.sk-estimator.fitted input.sk-toggleable__control:checked~label.sk-toggleable__label {\n  /* fitted */\n  background-color: var(--sklearn-color-fitted-level-2);\n}\n\n#sk-container-id-1 div.sk-label label.sk-toggleable__label,\n#sk-container-id-1 div.sk-label label {\n  /* The background is the default theme color */\n  color: var(--sklearn-color-text-on-default-background);\n}\n\n/* On hover, darken the color of the background */\n#sk-container-id-1 div.sk-label:hover label.sk-toggleable__label {\n  color: var(--sklearn-color-text);\n  background-color: var(--sklearn-color-unfitted-level-2);\n}\n\n/* Label box, darken color on hover, fitted */\n#sk-container-id-1 div.sk-label.fitted:hover label.sk-toggleable__label.fitted {\n  color: var(--sklearn-color-text);\n  background-color: var(--sklearn-color-fitted-level-2);\n}\n\n/* Estimator label */\n\n#sk-container-id-1 div.sk-label label {\n  font-family: monospace;\n  font-weight: bold;\n  display: inline-block;\n  line-height: 1.2em;\n}\n\n#sk-container-id-1 div.sk-label-container {\n  text-align: center;\n}\n\n/* Estimator-specific */\n#sk-container-id-1 div.sk-estimator {\n  font-family: monospace;\n  border: 1px dotted var(--sklearn-color-border-box);\n  border-radius: 0.25em;\n  box-sizing: border-box;\n  margin-bottom: 0.5em;\n  /* unfitted */\n  background-color: var(--sklearn-color-unfitted-level-0);\n}\n\n#sk-container-id-1 div.sk-estimator.fitted {\n  /* fitted */\n  background-color: var(--sklearn-color-fitted-level-0);\n}\n\n/* on hover */\n#sk-container-id-1 div.sk-estimator:hover {\n  /* unfitted */\n  background-color: var(--sklearn-color-unfitted-level-2);\n}\n\n#sk-container-id-1 div.sk-estimator.fitted:hover {\n  /* fitted */\n  background-color: var(--sklearn-color-fitted-level-2);\n}\n\n/* Specification for estimator info (e.g. \"i\" and \"?\") */\n\n/* Common style for \"i\" and \"?\" */\n\n.sk-estimator-doc-link,\na:link.sk-estimator-doc-link,\na:visited.sk-estimator-doc-link {\n  float: right;\n  font-size: smaller;\n  line-height: 1em;\n  font-family: monospace;\n  background-color: var(--sklearn-color-background);\n  border-radius: 1em;\n  height: 1em;\n  width: 1em;\n  text-decoration: none !important;\n  margin-left: 1ex;\n  /* unfitted */\n  border: var(--sklearn-color-unfitted-level-1) 1pt solid;\n  color: var(--sklearn-color-unfitted-level-1);\n}\n\n.sk-estimator-doc-link.fitted,\na:link.sk-estimator-doc-link.fitted,\na:visited.sk-estimator-doc-link.fitted {\n  /* fitted */\n  border: var(--sklearn-color-fitted-level-1) 1pt solid;\n  color: var(--sklearn-color-fitted-level-1);\n}\n\n/* On hover */\ndiv.sk-estimator:hover .sk-estimator-doc-link:hover,\n.sk-estimator-doc-link:hover,\ndiv.sk-label-container:hover .sk-estimator-doc-link:hover,\n.sk-estimator-doc-link:hover {\n  /* unfitted */\n  background-color: var(--sklearn-color-unfitted-level-3);\n  color: var(--sklearn-color-background);\n  text-decoration: none;\n}\n\ndiv.sk-estimator.fitted:hover .sk-estimator-doc-link.fitted:hover,\n.sk-estimator-doc-link.fitted:hover,\ndiv.sk-label-container:hover .sk-estimator-doc-link.fitted:hover,\n.sk-estimator-doc-link.fitted:hover {\n  /* fitted */\n  background-color: var(--sklearn-color-fitted-level-3);\n  color: var(--sklearn-color-background);\n  text-decoration: none;\n}\n\n/* Span, style for the box shown on hovering the info icon */\n.sk-estimator-doc-link span {\n  display: none;\n  z-index: 9999;\n  position: relative;\n  font-weight: normal;\n  right: .2ex;\n  padding: .5ex;\n  margin: .5ex;\n  width: min-content;\n  min-width: 20ex;\n  max-width: 50ex;\n  color: var(--sklearn-color-text);\n  box-shadow: 2pt 2pt 4pt #999;\n  /* unfitted */\n  background: var(--sklearn-color-unfitted-level-0);\n  border: .5pt solid var(--sklearn-color-unfitted-level-3);\n}\n\n.sk-estimator-doc-link.fitted span {\n  /* fitted */\n  background: var(--sklearn-color-fitted-level-0);\n  border: var(--sklearn-color-fitted-level-3);\n}\n\n.sk-estimator-doc-link:hover span {\n  display: block;\n}\n\n/* \"?\"-specific style due to the `<a>` HTML tag */\n\n#sk-container-id-1 a.estimator_doc_link {\n  float: right;\n  font-size: 1rem;\n  line-height: 1em;\n  font-family: monospace;\n  background-color: var(--sklearn-color-background);\n  border-radius: 1rem;\n  height: 1rem;\n  width: 1rem;\n  text-decoration: none;\n  /* unfitted */\n  color: var(--sklearn-color-unfitted-level-1);\n  border: var(--sklearn-color-unfitted-level-1) 1pt solid;\n}\n\n#sk-container-id-1 a.estimator_doc_link.fitted {\n  /* fitted */\n  border: var(--sklearn-color-fitted-level-1) 1pt solid;\n  color: var(--sklearn-color-fitted-level-1);\n}\n\n/* On hover */\n#sk-container-id-1 a.estimator_doc_link:hover {\n  /* unfitted */\n  background-color: var(--sklearn-color-unfitted-level-3);\n  color: var(--sklearn-color-background);\n  text-decoration: none;\n}\n\n#sk-container-id-1 a.estimator_doc_link.fitted:hover {\n  /* fitted */\n  background-color: var(--sklearn-color-fitted-level-3);\n}\n</style><div id=\"sk-container-id-1\" class=\"sk-top-container\"><div class=\"sk-text-repr-fallback\"><pre>RandomizedSearchCV(cv=3,\n                   estimator=XGBClassifier(base_score=None, booster=None,\n                                           callbacks=None,\n                                           colsample_bylevel=None,\n                                           colsample_bynode=None,\n                                           colsample_bytree=None, device=&#x27;cuda&#x27;,\n                                           early_stopping_rounds=None,\n                                           enable_categorical=False,\n                                           eval_metric=None, feature_types=None,\n                                           gamma=None, grow_policy=None,\n                                           importance_type=None,\n                                           interaction_constraints=None,\n                                           learning_ra...\n                                           min_child_weight=None, missing=nan,\n                                           monotone_constraints=None,\n                                           multi_strategy=None,\n                                           n_estimators=None, n_jobs=None,\n                                           num_parallel_tree=None,\n                                           random_state=None, ...),\n                   n_jobs=-1,\n                   param_distributions={&#x27;colsample_bytree&#x27;: [0.6, 0.8, 1.0],\n                                        &#x27;gamma&#x27;: [0, 0.1, 0.3],\n                                        &#x27;learning_rate&#x27;: [0.1, 0.01],\n                                        &#x27;max_depth&#x27;: [3, 5, 7],\n                                        &#x27;n_estimators&#x27;: [100, 200, 300, 400],\n                                        &#x27;reg_lambda&#x27;: [1, 1.5, 2],\n                                        &#x27;subsample&#x27;: [0.6, 0.8, 1.0]},\n                   verbose=2)</pre><b>In a Jupyter environment, please rerun this cell to show the HTML representation or trust the notebook. <br />On GitHub, the HTML representation is unable to render, please try loading this page with nbviewer.org.</b></div><div class=\"sk-container\" hidden><div class=\"sk-item sk-dashed-wrapped\"><div class=\"sk-label-container\"><div class=\"sk-label fitted sk-toggleable\"><input class=\"sk-toggleable__control sk-hidden--visually\" id=\"sk-estimator-id-1\" type=\"checkbox\" ><label for=\"sk-estimator-id-1\" class=\"sk-toggleable__label fitted sk-toggleable__label-arrow fitted\">&nbsp;&nbsp;RandomizedSearchCV<a class=\"sk-estimator-doc-link fitted\" rel=\"noreferrer\" target=\"_blank\" href=\"https://scikit-learn.org/1.4/modules/generated/sklearn.model_selection.RandomizedSearchCV.html\">?<span>Documentation for RandomizedSearchCV</span></a><span class=\"sk-estimator-doc-link fitted\">i<span>Fitted</span></span></label><div class=\"sk-toggleable__content fitted\"><pre>RandomizedSearchCV(cv=3,\n                   estimator=XGBClassifier(base_score=None, booster=None,\n                                           callbacks=None,\n                                           colsample_bylevel=None,\n                                           colsample_bynode=None,\n                                           colsample_bytree=None, device=&#x27;cuda&#x27;,\n                                           early_stopping_rounds=None,\n                                           enable_categorical=False,\n                                           eval_metric=None, feature_types=None,\n                                           gamma=None, grow_policy=None,\n                                           importance_type=None,\n                                           interaction_constraints=None,\n                                           learning_ra...\n                                           min_child_weight=None, missing=nan,\n                                           monotone_constraints=None,\n                                           multi_strategy=None,\n                                           n_estimators=None, n_jobs=None,\n                                           num_parallel_tree=None,\n                                           random_state=None, ...),\n                   n_jobs=-1,\n                   param_distributions={&#x27;colsample_bytree&#x27;: [0.6, 0.8, 1.0],\n                                        &#x27;gamma&#x27;: [0, 0.1, 0.3],\n                                        &#x27;learning_rate&#x27;: [0.1, 0.01],\n                                        &#x27;max_depth&#x27;: [3, 5, 7],\n                                        &#x27;n_estimators&#x27;: [100, 200, 300, 400],\n                                        &#x27;reg_lambda&#x27;: [1, 1.5, 2],\n                                        &#x27;subsample&#x27;: [0.6, 0.8, 1.0]},\n                   verbose=2)</pre></div> </div></div><div class=\"sk-parallel\"><div class=\"sk-parallel-item\"><div class=\"sk-item\"><div class=\"sk-label-container\"><div class=\"sk-label fitted sk-toggleable\"><input class=\"sk-toggleable__control sk-hidden--visually\" id=\"sk-estimator-id-2\" type=\"checkbox\" ><label for=\"sk-estimator-id-2\" class=\"sk-toggleable__label fitted sk-toggleable__label-arrow fitted\">estimator: XGBClassifier</label><div class=\"sk-toggleable__content fitted\"><pre>XGBClassifier(base_score=None, booster=None, callbacks=None,\n              colsample_bylevel=None, colsample_bynode=None,\n              colsample_bytree=None, device=&#x27;cuda&#x27;, early_stopping_rounds=None,\n              enable_categorical=False, eval_metric=None, feature_types=None,\n              gamma=None, grow_policy=None, importance_type=None,\n              interaction_constraints=None, learning_rate=None, max_bin=None,\n              max_cat_threshold=None, max_cat_to_onehot=None,\n              max_delta_step=None, max_depth=None, max_leaves=None,\n              min_child_weight=None, missing=nan, monotone_constraints=None,\n              multi_strategy=None, n_estimators=None, n_jobs=None,\n              num_parallel_tree=None, random_state=None, ...)</pre></div> </div></div><div class=\"sk-serial\"><div class=\"sk-item\"><div class=\"sk-estimator fitted sk-toggleable\"><input class=\"sk-toggleable__control sk-hidden--visually\" id=\"sk-estimator-id-3\" type=\"checkbox\" ><label for=\"sk-estimator-id-3\" class=\"sk-toggleable__label fitted sk-toggleable__label-arrow fitted\">XGBClassifier</label><div class=\"sk-toggleable__content fitted\"><pre>XGBClassifier(base_score=None, booster=None, callbacks=None,\n              colsample_bylevel=None, colsample_bynode=None,\n              colsample_bytree=None, device=&#x27;cuda&#x27;, early_stopping_rounds=None,\n              enable_categorical=False, eval_metric=None, feature_types=None,\n              gamma=None, grow_policy=None, importance_type=None,\n              interaction_constraints=None, learning_rate=None, max_bin=None,\n              max_cat_threshold=None, max_cat_to_onehot=None,\n              max_delta_step=None, max_depth=None, max_leaves=None,\n              min_child_weight=None, missing=nan, monotone_constraints=None,\n              multi_strategy=None, n_estimators=None, n_jobs=None,\n              num_parallel_tree=None, random_state=None, ...)</pre></div> </div></div></div></div></div></div></div></div></div>"
     },
     "execution_count": 12,
     "metadata": {},
     "output_type": "execute_result"
    }
   ],
   "source": [
    "param_grid = {\n",
    "    \"learning_rate\": [0.1, 0.01],\n",
    "    \"colsample_bytree\": [0.6, 0.8, 1.0],\n",
    "    \"subsample\": [0.6, 0.8, 1.0],\n",
    "    \"max_depth\": [3, 5, 7],\n",
    "    \"n_estimators\": [100, 200, 300, 400],\n",
    "    \"reg_lambda\": [1, 1.5, 2],\n",
    "    \"gamma\": [0, 0.1, 0.3],\n",
    "}\n",
    "\n",
    "rand_search = RandomizedSearchCV(estimator=model, param_distributions=param_grid, cv=3, n_jobs=-1, verbose=2)\n",
    "rand_search.fit(X_train, y_train)"
   ],
   "metadata": {
    "collapsed": false,
    "ExecuteTime": {
     "end_time": "2024-04-10T09:07:32.771188300Z",
     "start_time": "2024-04-10T09:06:27.769561400Z"
    }
   },
   "id": "da2055186aa47773"
  },
  {
   "cell_type": "code",
   "execution_count": 13,
   "outputs": [
    {
     "data": {
      "text/plain": "{'subsample': 0.8,\n 'reg_lambda': 1,\n 'n_estimators': 100,\n 'max_depth': 7,\n 'learning_rate': 0.1,\n 'gamma': 0.3,\n 'colsample_bytree': 0.8}"
     },
     "execution_count": 13,
     "metadata": {},
     "output_type": "execute_result"
    }
   ],
   "source": [
    "rand_search.best_params_"
   ],
   "metadata": {
    "collapsed": false,
    "ExecuteTime": {
     "end_time": "2024-04-10T09:07:32.772188600Z",
     "start_time": "2024-04-10T09:07:32.753192400Z"
    }
   },
   "id": "7d1cd5e8bc000649"
  },
  {
   "cell_type": "markdown",
   "source": [
    "### Testing\n",
    "\n",
    "In this section we test according to four different performance metrics from the sklearn.metrics library namely, accuracy_score, f1_score, recall_score, and precision_score; all of which are tested in order to asses the performance of the model. To get a better idea of how the models classify different instances, we also utilize a confusion matrix from the same library in order to visualize the predictions of the model compared to the actual test values."
   ],
   "metadata": {
    "collapsed": false
   },
   "id": "15dc0316c2542e0b"
  },
  {
   "cell_type": "code",
   "execution_count": 14,
   "outputs": [
    {
     "name": "stderr",
     "output_type": "stream",
     "text": [
      "D:\\Docs\\Ateneo\\CSCI 111\\finalsv5\\venv\\Lib\\site-packages\\xgboost\\core.py:160: UserWarning: [17:07:32] WARNING: C:\\buildkite-agent\\builds\\buildkite-windows-cpu-autoscaling-group-i-0b3782d1791676daf-1\\xgboost\\xgboost-ci-windows\\src\\common\\error_msg.cc:58: Falling back to prediction using DMatrix due to mismatched devices. This might lead to higher memory usage and slower performance. XGBoost is running on: cuda:0, while the input data is on: cpu.\n",
      "Potential solutions:\n",
      "- Use a data structure that matches the device ordinal in the booster.\n",
      "- Set the device for booster before call to inplace_predict.\n",
      "\n",
      "This warning will only be shown once.\n",
      "\n",
      "  warnings.warn(smsg, UserWarning)\n"
     ]
    }
   ],
   "source": [
    "y_pred = rand_search.predict(X_test)"
   ],
   "metadata": {
    "collapsed": false,
    "ExecuteTime": {
     "end_time": "2024-04-10T09:07:32.888344600Z",
     "start_time": "2024-04-10T09:07:32.759188400Z"
    }
   },
   "id": "f1909fc85fc54d5"
  },
  {
   "cell_type": "code",
   "execution_count": 37,
   "outputs": [
    {
     "name": "stdout",
     "output_type": "stream",
     "text": [
      "Accuracy: 97.42%\n",
      "Precision: 97.66471540131847%\n",
      "F1-Score: 0.9765208684289237\n",
      "Recall: 0.97655\n"
     ]
    },
    {
     "data": {
      "text/plain": "<Figure size 500x400 with 2 Axes>",
      "image/png": "[encoded data removed]"
     },
     "metadata": {},
     "output_type": "display_data"
    }
   ],
   "source": [
    "y_pred = rand_search.predict(X_test)\n",
    "from sklearn.metrics import accuracy_score, f1_score, recall_score, precision_score, confusion_matrix\n",
    "\n",
    "accuracy = accuracy_score(y_test, y_pred)\n",
    "precision = precision_score(y_test, y_pred, average='weighted')\n",
    "f1 = f1_score(y_test, y_pred, average='weighted')\n",
    "recall = recall_score(y_test, y_pred, average='weighted')\n",
    "\n",
    "print(f'Accuracy: {accuracy * 100}%')\n",
    "print(f'Precision: {precision * 100}%')\n",
    "print(f'F1-Score: {f1}')\n",
    "print(f'Recall: {recall}')\n",
    "\n",
    "classes = data['class'].unique().tolist()\n",
    "cm_xgb = confusion_matrix(y_test.values.argmax(axis=1), y_pred.argmax(axis=1))\n",
    "cm_df_xgb = pd.DataFrame(cm_xgb,\n",
    "                     index = classes, \n",
    "                     columns = classes)\n",
    "plt.figure(figsize=(5,4))\n",
    "sns.heatmap(cm_df_xgb, annot=True, fmt='g')\n",
    "plt.title('Confusion Matrix (XGB Classifier)')\n",
    "plt.ylabel('Actal Values')\n",
    "plt.xlabel('Predicted Values')\n",
    "plt.show()"
   ],
   "metadata": {
    "collapsed": false,
    "ExecuteTime": {
     "end_time": "2024-04-10T09:51:29.573834500Z",
     "start_time": "2024-04-10T09:51:29.350170Z"
    }
   },
   "id": "4d7117cdedae0052"
  },
  {
   "cell_type": "markdown",
   "source": [
    "Here we can see that the model performs very well in terms of the four performance metrics. Looking closer at the confusion matrix, we see that the model struggles to classify quasars more than galaxies and stars. This is likely due to the limited training data available for the model and shows that its performance still suffers even if is capable of handling unbalanced data more. "
   ],
   "metadata": {
    "collapsed": false
   },
   "id": "cbde2a7ca9f30003"
  },
  {
   "cell_type": "markdown",
   "source": [
    "### Save XGB Model\n",
    "\n",
    "So as to avoid having to retrain the model each time to demonstrate its performance, we save the entire model, including all of its weights onto a json file so that we can reload the model quickly into other programs / notebooks."
   ],
   "metadata": {
    "collapsed": false
   },
   "id": "a6b4ce87f831fe6b"
  },
  {
   "cell_type": "code",
   "execution_count": 196,
   "outputs": [],
   "source": [
    "rand_search.best_estimator_.save_model(\"models/stellar_class_xgb.json\")"
   ],
   "metadata": {
    "collapsed": false,
    "ExecuteTime": {
     "end_time": "2024-04-10T16:46:35.512465Z",
     "start_time": "2024-04-10T16:46:35.430527600Z"
    }
   },
   "id": "e943fb0fadf7ae3f"
  },
  {
   "cell_type": "markdown",
   "source": [
    "# DEEP NEURAL NETWORKS WITH TENSORFLOW\n",
    "\n",
    "In this section we now attempt to use Tensorflow Deep Neural Networks (DNN) for our classification task, to see if we can get a similarly high score on the different performance metric. Given the unbalanced distribution of classes within the data set it is reasonable to expect that it likely won't perform as well as the gradient booster out of the box. To avoid detracting too much from the task of training and utilizing different models and increasing the complexity of this project, oversampling methods such as SMOTE and ADASYN will not be utilized to balance out the class distribution of the dataset. However, it would be pertinent to note that since, such is the case, the model trained on this unbalanced data is likely not to generalize as well on unseen data.\n",
    "\n",
    "\n",
    "**FROM FUTURE ME:** I tried it anyway and here is the confusion matrix from the results of a SMOTE oversampled dataset. We can see here that the minority classes are actually predicted more correctly compared to the model which is showed below. The issue however is in its poorer performance in classifying the majority class of galaxy, where there is a considerably higher amount of incorrect predictions made for galaxy instances, and thus lower scores across the different performance metrics. This model may generalize better to unseen data but would require a lot more tuning. This simply proves that, out of the box, XGB classifiers perform better with unbalanced datasets and don't require the same amount of training / pipelining for classification tasks like this."
   ],
   "metadata": {
    "collapsed": false
   },
   "id": "52ff7a532dc0c931"
  },
  {
   "cell_type": "code",
   "execution_count": 190,
   "outputs": [
    {
     "data": {
      "text/plain": "<matplotlib.image.AxesImage at 0x1ecc373c510>"
     },
     "execution_count": 190,
     "metadata": {},
     "output_type": "execute_result"
    },
    {
     "data": {
      "text/plain": "<Figure size 640x480 with 1 Axes>",
      "image/png": "[encoded data removed]"
     },
     "metadata": {},
     "output_type": "display_data"
    }
   ],
   "source": [
    "plt.imshow(plt.imread('oversampled_dnn_cm.png'))"
   ],
   "metadata": {
    "collapsed": false,
    "ExecuteTime": {
     "end_time": "2024-04-10T16:02:46.334100900Z",
     "start_time": "2024-04-10T16:02:46.137490100Z"
    }
   },
   "id": "b16c9a1b1abb5368"
  },
  {
   "cell_type": "markdown",
   "source": [
    "## Import Dependencies\n",
    "\n",
    "If you see your code editor / IDE complaining about keras not being there, it is. Keras is just lazily loaded. It should run just fine."
   ],
   "metadata": {
    "collapsed": false
   },
   "id": "d389bf91e59cefd6"
  },
  {
   "cell_type": "code",
   "execution_count": 157,
   "outputs": [],
   "source": [
    "import tensorflow as tf\n",
    "import numpy as np"
   ],
   "metadata": {
    "collapsed": false,
    "ExecuteTime": {
     "end_time": "2024-04-10T13:53:45.026548700Z",
     "start_time": "2024-04-10T13:53:44.958673200Z"
    }
   },
   "id": "aa5d67f3497fa1c7"
  },
  {
   "cell_type": "code",
   "execution_count": 158,
   "outputs": [],
   "source": [
    "from tensorflow.keras.models import Sequential\n",
    "from tensorflow.keras.layers import Dense, Dropout\n",
    "from tensorflow.keras.optimizers import Adam\n",
    "from tensorflow.keras import regularizers\n",
    "from keras_tuner.tuners import Hyperband, BayesianOptimization\n",
    "from keras_tuner import HyperModel"
   ],
   "metadata": {
    "collapsed": false,
    "ExecuteTime": {
     "end_time": "2024-04-10T13:53:45.028549400Z",
     "start_time": "2024-04-10T13:53:44.963630200Z"
    }
   },
   "id": "2f1e00b9436ee3aa"
  },
  {
   "cell_type": "markdown",
   "source": [
    "### Scaling Values\n",
    "\n",
    "Given that neural networks tend to perform better with scaled values, we first scale the values for each feature to fit a standard distribution."
   ],
   "metadata": {
    "collapsed": false
   },
   "id": "7ca1eca3bbcf63d0"
  },
  {
   "cell_type": "code",
   "execution_count": 160,
   "outputs": [],
   "source": [
    "from sklearn.preprocessing import StandardScaler\n",
    "\n",
    "scaler = StandardScaler()\n",
    "scaler.fit(X_train)\n",
    "X_train_scaled = scaler.transform(X_train)\n",
    "X_test_scaled = scaler.transform(X_test)"
   ],
   "metadata": {
    "collapsed": false,
    "ExecuteTime": {
     "end_time": "2024-04-10T13:53:45.295773600Z",
     "start_time": "2024-04-10T13:53:44.972489800Z"
    }
   },
   "id": "4468fa7d1d9b4ba6"
  },
  {
   "cell_type": "markdown",
   "source": [
    "## Hyperparameter Tuning Using Keras Tuner HyperModel\n",
    "\n",
    "To give the neural network a decent chance against the gradient booster, we use Keras Tuner for testing the optimal structure for the DNN which would best fit the data and generalize well to unseen data. Here, we build a hypermodel that tests the following parameters:\n",
    "\n",
    "1. **Units:** For each Dense layer, we test the number of units (i.e neurons) for each layer in the neural network. It is tested within the range of 32 to 512 with a step of 16.\n",
    "2. **L1 and L2:** To prevent the model from overfitting, we implement l1 and l2 regularization and test different values from each. They are tested with choices of 0.1, 0.01, 0.001, 0.0001, and 0.00001.\n",
    "3. **Number of Layers:** To find the optimal structure for the model, we test out different numbers of dense layers to construct the model with. Number of dense layers in the network. It is tested within the range of 1 to 5.\n",
    "4. **Dropout:** Another regularization technique used to prevent overfitting, we implement dropout layers after each dense layer and test different dropout rates with choices of 0.1, 0.2, and 0.3.\n",
    "5. **Learning Rate:** To find the optimal learning rate during the optimization process (i.e finding the optimal rate to find the best weights and biases) we test different learning rates for the Adam optimizer. It is tested with choices of 0.01, 0.001, and 0.0001.\n",
    "6. **Batch Size:** To test the optimal batch size for training the model, we also test different batch sizes. It is tested with choices of 16, 32, and 64."
   ],
   "metadata": {
    "collapsed": false
   },
   "id": "79d6080e706762d4"
  },
  {
   "cell_type": "code",
   "execution_count": 191,
   "outputs": [],
   "source": [
    "class DNNHyperModel(HyperModel):\n",
    "    def build(self, hp):\n",
    "        model = Sequential()\n",
    "        model.add(Dense(units=hp.Int('units',\n",
    "                                     min_value=32,\n",
    "                                     max_value=512,\n",
    "                                     step=16),\n",
    "                        activation='relu',\n",
    "                        kernel_regularizer=regularizers.l1_l2(\n",
    "                            l1=hp.Choice('l1', values=[0.1, 0.01, 0.001, 0.0001, 0.00001]),\n",
    "                            l2=hp.Choice('l2', values=[0.1, 0.01, 0.001, 0.0001, 0.00001])),\n",
    "                        input_shape=(X_train.shape[1],)))\n",
    "        for _ in range(hp.Int('num_layers', min_value=1, max_value=5)):\n",
    "            model.add(Dense(units=hp.Int('units_' + str(_),\n",
    "                                         min_value=16,\n",
    "                                         max_value=256,\n",
    "                                         step=16),\n",
    "                            activation='relu',\n",
    "                            kernel_regularizer=regularizers.l1_l2(\n",
    "                                l1=hp.Choice('l1', values=[0.1, 0.01, 0.001, 0.0001, 0.00001]),\n",
    "                                l2=hp.Choice('l2', values=[0.1, 0.01, 0.001, 0.0001, 0.00001]))))\n",
    "            model.add(Dropout(rate=hp.Choice('dropout_rate',\n",
    "                                             values=[0.1, 0.2, 0.3])))\n",
    "        model.add(Dense(3, activation='softmax'))\n",
    "        model.compile(optimizer=Adam(learning_rate=hp.Choice('learning_rate',\n",
    "                                                             values=[1e-2, 1e-3, 1e-4])),\n",
    "                      loss='categorical_crossentropy',\n",
    "                      metrics=[tf.keras.metrics.CategoricalAccuracy()])\n",
    "        return model\n",
    "\n",
    "    def fit(self, hp, model, *args, **kwargs):\n",
    "        return model.fit(\n",
    "            *args,\n",
    "            batch_size=hp.Choice('batch_size', [16, 32, 64]),\n",
    "            **kwargs\n",
    "        )"
   ],
   "metadata": {
    "collapsed": false,
    "ExecuteTime": {
     "end_time": "2024-04-10T16:06:02.157861900Z",
     "start_time": "2024-04-10T16:06:02.140441700Z"
    }
   },
   "id": "57f7930edcdef694"
  },
  {
   "cell_type": "markdown",
   "source": [
    "## HyperBand Tuner\n",
    "\n",
    "Below we use a HyperBand tuner from Keras Tuner given that it offers a more balanced method of searching compared to the exhaustive Grid Search algorithm and the faster but less optimal Random Search algorithm. We set the objective of the tuner to maximize the categorical accuracy from the validation set and set the maximum number of epochs for each tested model to 20. We then save the different models tested to the hyperb_tuners directory. To speed up the process, we implement early stopping by monitoring the loss on the validation set and stop if it no longer improves / gets worse. "
   ],
   "metadata": {
    "collapsed": false
   },
   "id": "d6bc63de02fe96f0"
  },
  {
   "cell_type": "code",
   "execution_count": 162,
   "outputs": [
    {
     "name": "stderr",
     "output_type": "stream",
     "text": [
      "D:\\Docs\\Ateneo\\CSCI 111\\finalsv5\\venv\\Lib\\site-packages\\keras\\src\\layers\\core\\dense.py:86: UserWarning: Do not pass an `input_shape`/`input_dim` argument to a layer. When using Sequential models, prefer using an `Input(shape)` object as the first layer in the model instead.\n",
      "  super().__init__(activity_regularizer=activity_regularizer, **kwargs)\n"
     ]
    }
   ],
   "source": [
    "tuner = Hyperband(\n",
    "    DNNHyperModel(),\n",
    "    objective='val_categorical_accuracy',\n",
    "    max_epochs=20,\n",
    "    factor=3,\n",
    "    hyperband_iterations=2,\n",
    "    directory='hyperb_tuners',\n",
    "    overwrite=True\n",
    ")\n",
    "\n",
    "early_stopping = tf.keras.callbacks.EarlyStopping(monitor=\"val_loss\", patience=5)"
   ],
   "metadata": {
    "collapsed": false,
    "ExecuteTime": {
     "end_time": "2024-04-10T13:53:45.322788200Z",
     "start_time": "2024-04-10T13:53:45.003968300Z"
    }
   },
   "id": "ca6569c1c4b08b4c"
  },
  {
   "cell_type": "code",
   "execution_count": 163,
   "outputs": [
    {
     "name": "stdout",
     "output_type": "stream",
     "text": [
      "Trial 60 Complete [00h 02m 45s]\n",
      "val_categorical_accuracy: 0.9646250009536743\n",
      "\n",
      "Best val_categorical_accuracy So Far: 0.9680625200271606\n",
      "Total elapsed time: 00h 33m 19s\n"
     ]
    }
   ],
   "source": [
    "tuner.search(X_train_scaled, y_train, epochs=20, validation_split=0.2, callbacks=[early_stopping])"
   ],
   "metadata": {
    "collapsed": false
   },
   "id": "658dc723869d783c"
  },
  {
   "cell_type": "markdown",
   "source": [
    "After all the trials are completed, we check for the best hyperparameters and use them to train the final DNN we are to build and use."
   ],
   "metadata": {
    "collapsed": false
   },
   "id": "d71f09ef481f959d"
  },
  {
   "cell_type": "code",
   "execution_count": 164,
   "outputs": [
    {
     "name": "stdout",
     "output_type": "stream",
     "text": [
      "Best Hyperparameters [HyperBand]:  {'units': 480, 'l1': 1e-05, 'l2': 1e-05, 'num_layers': 3, 'units_0': 48, 'dropout_rate': 0.2, 'learning_rate': 0.001, 'units_1': 240, 'batch_size': 16, 'units_2': 176, 'units_3': 80, 'units_4': 240, 'tuner/epochs': 20, 'tuner/initial_epoch': 7, 'tuner/bracket': 2, 'tuner/round': 2, 'tuner/trial_id': '0042'}\n"
     ]
    }
   ],
   "source": [
    "best_hyperparameters = tuner.get_best_hyperparameters(num_trials=1)[0]\n",
    "print(\"Best Hyperparameters [HyperBand]: \", best_hyperparameters.values)"
   ],
   "metadata": {
    "collapsed": false,
    "ExecuteTime": {
     "end_time": "2024-04-10T14:27:03.787169Z",
     "start_time": "2024-04-10T14:27:03.781311600Z"
    }
   },
   "id": "67813dd5da53bf61"
  },
  {
   "cell_type": "code",
   "execution_count": 165,
   "outputs": [
    {
     "name": "stderr",
     "output_type": "stream",
     "text": [
      "D:\\Docs\\Ateneo\\CSCI 111\\finalsv5\\venv\\Lib\\site-packages\\keras\\src\\layers\\core\\dense.py:86: UserWarning: Do not pass an `input_shape`/`input_dim` argument to a layer. When using Sequential models, prefer using an `Input(shape)` object as the first layer in the model instead.\n",
      "  super().__init__(activity_regularizer=activity_regularizer, **kwargs)\n"
     ]
    }
   ],
   "source": [
    "dnn = tuner.hypermodel.build(best_hyperparameters)"
   ],
   "metadata": {
    "collapsed": false,
    "ExecuteTime": {
     "end_time": "2024-04-10T14:27:03.864485300Z",
     "start_time": "2024-04-10T14:27:03.789171Z"
    }
   },
   "id": "119852c037b043aa"
  },
  {
   "cell_type": "markdown",
   "source": [
    "Here we get identify the best number of epochs to train the model on by using the best parameters, building the model with an arbitrarily high epoch count for this particular task, and get the epoch with the highest validation categorical accuracy."
   ],
   "metadata": {
    "collapsed": false
   },
   "id": "e4c8dd433e786455"
  },
  {
   "cell_type": "code",
   "execution_count": 166,
   "outputs": [],
   "source": [
    "def get_best_epoch(dnn, X_train, y_train, epochs):\n",
    "    history = dnn.fit(X_train, y_train, epochs=epochs, validation_split=0.2, callbacks=[early_stopping], batch_size=best_hyperparameters.values['batch_size'])\n",
    "    val_acc_per_epoch = history.history['val_categorical_accuracy']\n",
    "    best_epoch = val_acc_per_epoch.index(max(val_acc_per_epoch)) + 1\n",
    "    print('Best epoch: %d' % (best_epoch,))\n",
    "    return best_epoch"
   ],
   "metadata": {
    "collapsed": false,
    "ExecuteTime": {
     "end_time": "2024-04-10T14:27:03.882484900Z",
     "start_time": "2024-04-10T14:27:03.865486600Z"
    }
   },
   "id": "884092b573cd59c0"
  },
  {
   "cell_type": "code",
   "execution_count": 167,
   "outputs": [
    {
     "name": "stdout",
     "output_type": "stream",
     "text": [
      "Epoch 1/50\n",
      "\u001B[1m4000/4000\u001B[0m \u001B[32m━━━━━━━━━━━━━━━━━━━━\u001B[0m\u001B[37m\u001B[0m \u001B[1m12s\u001B[0m 3ms/step - categorical_accuracy: 0.8987 - loss: 0.3237 - val_categorical_accuracy: 0.9571 - val_loss: 0.1645\n",
      "Epoch 2/50\n",
      "\u001B[1m4000/4000\u001B[0m \u001B[32m━━━━━━━━━━━━━━━━━━━━\u001B[0m\u001B[37m\u001B[0m \u001B[1m10s\u001B[0m 3ms/step - categorical_accuracy: 0.9543 - loss: 0.1764 - val_categorical_accuracy: 0.9344 - val_loss: 0.2033\n",
      "Epoch 3/50\n",
      "\u001B[1m4000/4000\u001B[0m \u001B[32m━━━━━━━━━━━━━━━━━━━━\u001B[0m\u001B[37m\u001B[0m \u001B[1m10s\u001B[0m 3ms/step - categorical_accuracy: 0.9590 - loss: 0.1578 - val_categorical_accuracy: 0.9575 - val_loss: 0.1532\n",
      "Epoch 4/50\n",
      "\u001B[1m4000/4000\u001B[0m \u001B[32m━━━━━━━━━━━━━━━━━━━━\u001B[0m\u001B[37m\u001B[0m \u001B[1m10s\u001B[0m 2ms/step - categorical_accuracy: 0.9595 - loss: 0.1474 - val_categorical_accuracy: 0.9649 - val_loss: 0.1368\n",
      "Epoch 5/50\n",
      "\u001B[1m4000/4000\u001B[0m \u001B[32m━━━━━━━━━━━━━━━━━━━━\u001B[0m\u001B[37m\u001B[0m \u001B[1m10s\u001B[0m 2ms/step - categorical_accuracy: 0.9620 - loss: 0.1457 - val_categorical_accuracy: 0.9656 - val_loss: 0.1323\n",
      "Epoch 6/50\n",
      "\u001B[1m4000/4000\u001B[0m \u001B[32m━━━━━━━━━━━━━━━━━━━━\u001B[0m\u001B[37m\u001B[0m \u001B[1m10s\u001B[0m 2ms/step - categorical_accuracy: 0.9630 - loss: 0.1363 - val_categorical_accuracy: 0.9587 - val_loss: 0.1451\n",
      "Epoch 7/50\n",
      "\u001B[1m4000/4000\u001B[0m \u001B[32m━━━━━━━━━━━━━━━━━━━━\u001B[0m\u001B[37m\u001B[0m \u001B[1m10s\u001B[0m 2ms/step - categorical_accuracy: 0.9648 - loss: 0.1330 - val_categorical_accuracy: 0.9628 - val_loss: 0.1419\n",
      "Epoch 8/50\n",
      "\u001B[1m4000/4000\u001B[0m \u001B[32m━━━━━━━━━━━━━━━━━━━━\u001B[0m\u001B[37m\u001B[0m \u001B[1m10s\u001B[0m 2ms/step - categorical_accuracy: 0.9637 - loss: 0.1334 - val_categorical_accuracy: 0.9616 - val_loss: 0.1328\n",
      "Epoch 9/50\n",
      "\u001B[1m4000/4000\u001B[0m \u001B[32m━━━━━━━━━━━━━━━━━━━━\u001B[0m\u001B[37m\u001B[0m \u001B[1m10s\u001B[0m 2ms/step - categorical_accuracy: 0.9642 - loss: 0.1328 - val_categorical_accuracy: 0.9668 - val_loss: 0.1286\n",
      "Epoch 10/50\n",
      "\u001B[1m4000/4000\u001B[0m \u001B[32m━━━━━━━━━━━━━━━━━━━━\u001B[0m\u001B[37m\u001B[0m \u001B[1m10s\u001B[0m 2ms/step - categorical_accuracy: 0.9654 - loss: 0.1283 - val_categorical_accuracy: 0.9541 - val_loss: 0.1576\n",
      "Epoch 11/50\n",
      "\u001B[1m4000/4000\u001B[0m \u001B[32m━━━━━━━━━━━━━━━━━━━━\u001B[0m\u001B[37m\u001B[0m \u001B[1m10s\u001B[0m 2ms/step - categorical_accuracy: 0.9649 - loss: 0.1292 - val_categorical_accuracy: 0.9602 - val_loss: 0.1496\n",
      "Epoch 12/50\n",
      "\u001B[1m4000/4000\u001B[0m \u001B[32m━━━━━━━━━━━━━━━━━━━━\u001B[0m\u001B[37m\u001B[0m \u001B[1m10s\u001B[0m 2ms/step - categorical_accuracy: 0.9665 - loss: 0.1247 - val_categorical_accuracy: 0.9669 - val_loss: 0.1229\n",
      "Epoch 13/50\n",
      "\u001B[1m4000/4000\u001B[0m \u001B[32m━━━━━━━━━━━━━━━━━━━━\u001B[0m\u001B[37m\u001B[0m \u001B[1m10s\u001B[0m 2ms/step - categorical_accuracy: 0.9653 - loss: 0.1253 - val_categorical_accuracy: 0.9668 - val_loss: 0.1195\n",
      "Epoch 14/50\n",
      "\u001B[1m4000/4000\u001B[0m \u001B[32m━━━━━━━━━━━━━━━━━━━━\u001B[0m\u001B[37m\u001B[0m \u001B[1m10s\u001B[0m 2ms/step - categorical_accuracy: 0.9669 - loss: 0.1216 - val_categorical_accuracy: 0.9654 - val_loss: 0.1235\n",
      "Epoch 15/50\n",
      "\u001B[1m4000/4000\u001B[0m \u001B[32m━━━━━━━━━━━━━━━━━━━━\u001B[0m\u001B[37m\u001B[0m \u001B[1m10s\u001B[0m 2ms/step - categorical_accuracy: 0.9669 - loss: 0.1252 - val_categorical_accuracy: 0.9671 - val_loss: 0.1226\n",
      "Epoch 16/50\n",
      "\u001B[1m4000/4000\u001B[0m \u001B[32m━━━━━━━━━━━━━━━━━━━━\u001B[0m\u001B[37m\u001B[0m \u001B[1m10s\u001B[0m 2ms/step - categorical_accuracy: 0.9671 - loss: 0.1214 - val_categorical_accuracy: 0.9654 - val_loss: 0.1277\n",
      "Epoch 17/50\n",
      "\u001B[1m4000/4000\u001B[0m \u001B[32m━━━━━━━━━━━━━━━━━━━━\u001B[0m\u001B[37m\u001B[0m \u001B[1m10s\u001B[0m 2ms/step - categorical_accuracy: 0.9689 - loss: 0.1183 - val_categorical_accuracy: 0.9674 - val_loss: 0.1246\n",
      "Epoch 18/50\n",
      "\u001B[1m4000/4000\u001B[0m \u001B[32m━━━━━━━━━━━━━━━━━━━━\u001B[0m\u001B[37m\u001B[0m \u001B[1m10s\u001B[0m 2ms/step - categorical_accuracy: 0.9670 - loss: 0.1226 - val_categorical_accuracy: 0.9672 - val_loss: 0.1280\n",
      "Best epoch: 17\n"
     ]
    }
   ],
   "source": [
    "dnn_best_epoch = get_best_epoch(dnn, X_train_scaled, y_train, 50)"
   ],
   "metadata": {
    "collapsed": false,
    "ExecuteTime": {
     "end_time": "2024-04-10T14:30:04.024671600Z",
     "start_time": "2024-04-10T14:27:03.871485500Z"
    }
   },
   "id": "eb09861068a9d885"
  },
  {
   "cell_type": "markdown",
   "source": [
    "Upon identifying the ideal number of epochs, we build train and evaluate the final DNN model."
   ],
   "metadata": {
    "collapsed": false
   },
   "id": "59a1ed4dc9646078"
  },
  {
   "cell_type": "code",
   "execution_count": 168,
   "outputs": [],
   "source": [
    "def build_train_evaluate_dnn(optimized_hyperparams, best_epoch):\n",
    "    dnn = tuner.hypermodel.build(optimized_hyperparams)\n",
    "    dnn.fit(X_train_scaled, y_train, epochs=best_epoch, validation_split=0.2)\n",
    "    eval_result = dnn.evaluate(X_test_scaled, y_test)\n",
    "    print(\"[test loss, test accuracy]:\", eval_result)\n",
    "    return dnn"
   ],
   "metadata": {
    "collapsed": false,
    "ExecuteTime": {
     "end_time": "2024-04-10T14:30:04.024671600Z",
     "start_time": "2024-04-10T14:30:04.021156600Z"
    }
   },
   "id": "3bd5f534d0ae5b9b"
  },
  {
   "cell_type": "code",
   "execution_count": 169,
   "outputs": [
    {
     "name": "stdout",
     "output_type": "stream",
     "text": [
      "Epoch 1/17\n"
     ]
    },
    {
     "name": "stderr",
     "output_type": "stream",
     "text": [
      "D:\\Docs\\Ateneo\\CSCI 111\\finalsv5\\venv\\Lib\\site-packages\\keras\\src\\layers\\core\\dense.py:86: UserWarning: Do not pass an `input_shape`/`input_dim` argument to a layer. When using Sequential models, prefer using an `Input(shape)` object as the first layer in the model instead.\n",
      "  super().__init__(activity_regularizer=activity_regularizer, **kwargs)\n"
     ]
    },
    {
     "name": "stdout",
     "output_type": "stream",
     "text": [
      "\u001B[1m2000/2000\u001B[0m \u001B[32m━━━━━━━━━━━━━━━━━━━━\u001B[0m\u001B[37m\u001B[0m \u001B[1m7s\u001B[0m 3ms/step - categorical_accuracy: 0.8912 - loss: 0.3717 - val_categorical_accuracy: 0.9408 - val_loss: 0.2089\n",
      "Epoch 2/17\n",
      "\u001B[1m2000/2000\u001B[0m \u001B[32m━━━━━━━━━━━━━━━━━━━━\u001B[0m\u001B[37m\u001B[0m \u001B[1m5s\u001B[0m 3ms/step - categorical_accuracy: 0.9543 - loss: 0.1822 - val_categorical_accuracy: 0.9604 - val_loss: 0.1636\n",
      "Epoch 3/17\n",
      "\u001B[1m2000/2000\u001B[0m \u001B[32m━━━━━━━━━━━━━━━━━━━━\u001B[0m\u001B[37m\u001B[0m \u001B[1m5s\u001B[0m 3ms/step - categorical_accuracy: 0.9599 - loss: 0.1575 - val_categorical_accuracy: 0.9618 - val_loss: 0.1501\n",
      "Epoch 4/17\n",
      "\u001B[1m2000/2000\u001B[0m \u001B[32m━━━━━━━━━━━━━━━━━━━━\u001B[0m\u001B[37m\u001B[0m \u001B[1m5s\u001B[0m 3ms/step - categorical_accuracy: 0.9598 - loss: 0.1518 - val_categorical_accuracy: 0.9549 - val_loss: 0.1628\n",
      "Epoch 5/17\n",
      "\u001B[1m2000/2000\u001B[0m \u001B[32m━━━━━━━━━━━━━━━━━━━━\u001B[0m\u001B[37m\u001B[0m \u001B[1m5s\u001B[0m 3ms/step - categorical_accuracy: 0.9611 - loss: 0.1961 - val_categorical_accuracy: 0.9593 - val_loss: 0.1518\n",
      "Epoch 6/17\n",
      "\u001B[1m2000/2000\u001B[0m \u001B[32m━━━━━━━━━━━━━━━━━━━━\u001B[0m\u001B[37m\u001B[0m \u001B[1m5s\u001B[0m 3ms/step - categorical_accuracy: 0.9649 - loss: 0.1357 - val_categorical_accuracy: 0.9653 - val_loss: 0.1344\n",
      "Epoch 7/17\n",
      "\u001B[1m2000/2000\u001B[0m \u001B[32m━━━━━━━━━━━━━━━━━━━━\u001B[0m\u001B[37m\u001B[0m \u001B[1m5s\u001B[0m 3ms/step - categorical_accuracy: 0.9645 - loss: 0.1387 - val_categorical_accuracy: 0.9560 - val_loss: 0.1578\n",
      "Epoch 8/17\n",
      "\u001B[1m2000/2000\u001B[0m \u001B[32m━━━━━━━━━━━━━━━━━━━━\u001B[0m\u001B[37m\u001B[0m \u001B[1m5s\u001B[0m 3ms/step - categorical_accuracy: 0.9645 - loss: 0.1344 - val_categorical_accuracy: 0.9643 - val_loss: 0.1346\n",
      "Epoch 9/17\n",
      "\u001B[1m2000/2000\u001B[0m \u001B[32m━━━━━━━━━━━━━━━━━━━━\u001B[0m\u001B[37m\u001B[0m \u001B[1m5s\u001B[0m 3ms/step - categorical_accuracy: 0.9660 - loss: 0.1290 - val_categorical_accuracy: 0.9609 - val_loss: 0.1435\n",
      "Epoch 10/17\n",
      "\u001B[1m2000/2000\u001B[0m \u001B[32m━━━━━━━━━━━━━━━━━━━━\u001B[0m\u001B[37m\u001B[0m \u001B[1m5s\u001B[0m 3ms/step - categorical_accuracy: 0.9668 - loss: 0.1262 - val_categorical_accuracy: 0.9663 - val_loss: 0.1271\n",
      "Epoch 11/17\n",
      "\u001B[1m2000/2000\u001B[0m \u001B[32m━━━━━━━━━━━━━━━━━━━━\u001B[0m\u001B[37m\u001B[0m \u001B[1m5s\u001B[0m 3ms/step - categorical_accuracy: 0.9661 - loss: 0.1248 - val_categorical_accuracy: 0.9641 - val_loss: 0.1338\n",
      "Epoch 12/17\n",
      "\u001B[1m2000/2000\u001B[0m \u001B[32m━━━━━━━━━━━━━━━━━━━━\u001B[0m\u001B[37m\u001B[0m \u001B[1m5s\u001B[0m 3ms/step - categorical_accuracy: 0.9659 - loss: 0.1258 - val_categorical_accuracy: 0.9667 - val_loss: 0.1230\n",
      "Epoch 13/17\n",
      "\u001B[1m2000/2000\u001B[0m \u001B[32m━━━━━━━━━━━━━━━━━━━━\u001B[0m\u001B[37m\u001B[0m \u001B[1m5s\u001B[0m 3ms/step - categorical_accuracy: 0.9682 - loss: 0.1207 - val_categorical_accuracy: 0.9668 - val_loss: 0.1286\n",
      "Epoch 14/17\n",
      "\u001B[1m2000/2000\u001B[0m \u001B[32m━━━━━━━━━━━━━━━━━━━━\u001B[0m\u001B[37m\u001B[0m \u001B[1m5s\u001B[0m 3ms/step - categorical_accuracy: 0.9677 - loss: 0.1216 - val_categorical_accuracy: 0.9687 - val_loss: 0.1199\n",
      "Epoch 15/17\n",
      "\u001B[1m2000/2000\u001B[0m \u001B[32m━━━━━━━━━━━━━━━━━━━━\u001B[0m\u001B[37m\u001B[0m \u001B[1m5s\u001B[0m 3ms/step - categorical_accuracy: 0.9678 - loss: 0.1190 - val_categorical_accuracy: 0.9667 - val_loss: 0.1248\n",
      "Epoch 16/17\n",
      "\u001B[1m2000/2000\u001B[0m \u001B[32m━━━━━━━━━━━━━━━━━━━━\u001B[0m\u001B[37m\u001B[0m \u001B[1m5s\u001B[0m 3ms/step - categorical_accuracy: 0.9694 - loss: 0.1163 - val_categorical_accuracy: 0.9622 - val_loss: 0.1380\n",
      "Epoch 17/17\n",
      "\u001B[1m2000/2000\u001B[0m \u001B[32m━━━━━━━━━━━━━━━━━━━━\u001B[0m\u001B[37m\u001B[0m \u001B[1m5s\u001B[0m 3ms/step - categorical_accuracy: 0.9677 - loss: 0.1187 - val_categorical_accuracy: 0.9613 - val_loss: 0.1368\n",
      "\u001B[1m625/625\u001B[0m \u001B[32m━━━━━━━━━━━━━━━━━━━━\u001B[0m\u001B[37m\u001B[0m \u001B[1m1s\u001B[0m 1ms/step - categorical_accuracy: 0.9638 - loss: 0.1321\n",
      "[test loss, test accuracy]: [0.12946920096874237, 0.9629999995231628]\n"
     ]
    }
   ],
   "source": [
    "hype_dnn = build_train_evaluate_dnn(best_hyperparameters, dnn_best_epoch)"
   ],
   "metadata": {
    "collapsed": false,
    "ExecuteTime": {
     "end_time": "2024-04-10T14:31:33.912495600Z",
     "start_time": "2024-04-10T14:30:04.026668900Z"
    }
   },
   "id": "b771b8e28a5be89e"
  },
  {
   "cell_type": "markdown",
   "source": [
    "Here we see that the model has a 0.13 loss and a 0.962 accuracy which is less than that of the gradient booster. Below we check for the other performance metrics and analyze the confusion matrix of this model's predictions."
   ],
   "metadata": {
    "collapsed": false
   },
   "id": "98244a067d4a42c7"
  },
  {
   "cell_type": "code",
   "execution_count": 170,
   "outputs": [],
   "source": [
    "def get_accuracies(dnn):\n",
    "    y_pred = dnn.predict(X_test_scaled)\n",
    "    y_pred_one_hot = np.eye(3)[np.argmax(y_pred, axis=1)]\n",
    "    \n",
    "    accuracy = accuracy_score(y_test, y_pred_one_hot)\n",
    "    precision = precision_score(y_test, y_pred_one_hot, average='weighted')\n",
    "    recall = recall_score(y_test, y_pred_one_hot, average='weighted')\n",
    "    f1 = f1_score(y_test, y_pred_one_hot, average='weighted')\n",
    "    \n",
    "    print(f\"Accuracy: {accuracy*100}%\")\n",
    "    print(f\"Precision: {precision*100}%\")\n",
    "    print(\"Recall:\", recall)\n",
    "    print(\"F1 Score:\", f1)\n",
    "    \n",
    "    classes = data['class'].unique().tolist()\n",
    "    cm_dnn = confusion_matrix(y_test.values.argmax(axis=1), y_pred_one_hot.argmax(axis=1))\n",
    "    cm_df_dnn = pd.DataFrame(cm_dnn,\n",
    "                     index = classes, \n",
    "                     columns = classes)\n",
    "    plt.figure(figsize=(5,4))\n",
    "    sns.heatmap(cm_df_dnn, annot=True, fmt='g')\n",
    "    plt.title('Confusion Matrix (Tensorflow DNN)')\n",
    "    plt.ylabel('Actal Values')\n",
    "    plt.xlabel('Predicted Values')\n",
    "    plt.show()\n"
   ],
   "metadata": {
    "collapsed": false,
    "ExecuteTime": {
     "end_time": "2024-04-10T14:31:33.926009200Z",
     "start_time": "2024-04-10T14:31:33.911495Z"
    }
   },
   "id": "538d78e07e44ee3c"
  },
  {
   "cell_type": "code",
   "execution_count": 181,
   "outputs": [
    {
     "name": "stdout",
     "output_type": "stream",
     "text": [
      "\u001B[1m625/625\u001B[0m \u001B[32m━━━━━━━━━━━━━━━━━━━━\u001B[0m\u001B[37m\u001B[0m \u001B[1m1s\u001B[0m 841us/step\n",
      "Accuracy: 96.3%\n",
      "Precision: 96.30590595832925%\n",
      "Recall: 0.963\n",
      "F1 Score: 0.962846758632656\n"
     ]
    },
    {
     "data": {
      "text/plain": "<Figure size 500x400 with 2 Axes>",
      "image/png": "[encoded data removed]"
     },
     "metadata": {},
     "output_type": "display_data"
    }
   ],
   "source": [
    "get_accuracies(hype_dnn)"
   ],
   "metadata": {
    "collapsed": false,
    "ExecuteTime": {
     "end_time": "2024-04-10T15:14:52.903393900Z",
     "start_time": "2024-04-10T15:14:51.913596200Z"
    }
   },
   "id": "5949fadc85568bdd"
  },
  {
   "cell_type": "markdown",
   "source": [
    "Here we see that the model's precision, recall, and f1 score are also less than that of the gradient booster. Though the difference is not that significant, this shows the difference in performance between the two given the particular dataset and task. Looking closely at the confusion matrix, we see that the model struggles to predict instances of the minority classes (quasars and stars) due to the unbalanced dataset and the limited information present for the two of them. Because of the larger distribution of galaxies in the training data, the model if more likely to predict things as galaxies. Nevertheless, the model still performs very well and would still likely outperform other simpler algorithms like logistic regression significantly."
   ],
   "metadata": {
    "collapsed": false
   },
   "id": "d59423076f86ee1d"
  },
  {
   "cell_type": "markdown",
   "source": [
    "### Save DNN Model\n",
    "\n",
    "Again so as to not have to retrain the model / run the notebook each time when we want to test it, we save the model as a .keras file so that we can easily load it into separate scripts / notebooks in the future. Below is a summary of the DNNs structure."
   ],
   "metadata": {
    "collapsed": false
   },
   "id": "c7a83334d211829c"
  },
  {
   "cell_type": "code",
   "execution_count": 182,
   "outputs": [
    {
     "data": {
      "text/plain": "\u001B[1mModel: \"sequential_2\"\u001B[0m\n",
      "text/html": "<pre style=\"white-space:pre;overflow-x:auto;line-height:normal;font-family:Menlo,'DejaVu Sans Mono',consolas,'Courier New',monospace\"><span style=\"font-weight: bold\">Model: \"sequential_2\"</span>\n</pre>\n"
     },
     "metadata": {},
     "output_type": "display_data"
    },
    {
     "data": {
      "text/plain": "┏━━━━━━━━━━━━━━━━━━━━━━━━━━━━━━━━━┳━━━━━━━━━━━━━━━━━━━━━━━━┳━━━━━━━━━━━━━━━┓\n┃\u001B[1m \u001B[0m\u001B[1mLayer (type)                   \u001B[0m\u001B[1m \u001B[0m┃\u001B[1m \u001B[0m\u001B[1mOutput Shape          \u001B[0m\u001B[1m \u001B[0m┃\u001B[1m \u001B[0m\u001B[1m      Param #\u001B[0m\u001B[1m \u001B[0m┃\n┡━━━━━━━━━━━━━━━━━━━━━━━━━━━━━━━━━╇━━━━━━━━━━━━━━━━━━━━━━━━╇━━━━━━━━━━━━━━━┩\n│ dense_12 (\u001B[38;5;33mDense\u001B[0m)                │ (\u001B[38;5;45mNone\u001B[0m, \u001B[38;5;34m480\u001B[0m)            │         \u001B[38;5;34m4,800\u001B[0m │\n├─────────────────────────────────┼────────────────────────┼───────────────┤\n│ dense_13 (\u001B[38;5;33mDense\u001B[0m)                │ (\u001B[38;5;45mNone\u001B[0m, \u001B[38;5;34m48\u001B[0m)             │        \u001B[38;5;34m23,088\u001B[0m │\n├─────────────────────────────────┼────────────────────────┼───────────────┤\n│ dropout_8 (\u001B[38;5;33mDropout\u001B[0m)             │ (\u001B[38;5;45mNone\u001B[0m, \u001B[38;5;34m48\u001B[0m)             │             \u001B[38;5;34m0\u001B[0m │\n├─────────────────────────────────┼────────────────────────┼───────────────┤\n│ dense_14 (\u001B[38;5;33mDense\u001B[0m)                │ (\u001B[38;5;45mNone\u001B[0m, \u001B[38;5;34m240\u001B[0m)            │        \u001B[38;5;34m11,760\u001B[0m │\n├─────────────────────────────────┼────────────────────────┼───────────────┤\n│ dropout_9 (\u001B[38;5;33mDropout\u001B[0m)             │ (\u001B[38;5;45mNone\u001B[0m, \u001B[38;5;34m240\u001B[0m)            │             \u001B[38;5;34m0\u001B[0m │\n├─────────────────────────────────┼────────────────────────┼───────────────┤\n│ dense_15 (\u001B[38;5;33mDense\u001B[0m)                │ (\u001B[38;5;45mNone\u001B[0m, \u001B[38;5;34m176\u001B[0m)            │        \u001B[38;5;34m42,416\u001B[0m │\n├─────────────────────────────────┼────────────────────────┼───────────────┤\n│ dropout_10 (\u001B[38;5;33mDropout\u001B[0m)            │ (\u001B[38;5;45mNone\u001B[0m, \u001B[38;5;34m176\u001B[0m)            │             \u001B[38;5;34m0\u001B[0m │\n├─────────────────────────────────┼────────────────────────┼───────────────┤\n│ dense_16 (\u001B[38;5;33mDense\u001B[0m)                │ (\u001B[38;5;45mNone\u001B[0m, \u001B[38;5;34m3\u001B[0m)              │           \u001B[38;5;34m531\u001B[0m │\n└─────────────────────────────────┴────────────────────────┴───────────────┘\n",
      "text/html": "<pre style=\"white-space:pre;overflow-x:auto;line-height:normal;font-family:Menlo,'DejaVu Sans Mono',consolas,'Courier New',monospace\">┏━━━━━━━━━━━━━━━━━━━━━━━━━━━━━━━━━┳━━━━━━━━━━━━━━━━━━━━━━━━┳━━━━━━━━━━━━━━━┓\n┃<span style=\"font-weight: bold\"> Layer (type)                    </span>┃<span style=\"font-weight: bold\"> Output Shape           </span>┃<span style=\"font-weight: bold\">       Param # </span>┃\n┡━━━━━━━━━━━━━━━━━━━━━━━━━━━━━━━━━╇━━━━━━━━━━━━━━━━━━━━━━━━╇━━━━━━━━━━━━━━━┩\n│ dense_12 (<span style=\"color: #0087ff; text-decoration-color: #0087ff\">Dense</span>)                │ (<span style=\"color: #00d7ff; text-decoration-color: #00d7ff\">None</span>, <span style=\"color: #00af00; text-decoration-color: #00af00\">480</span>)            │         <span style=\"color: #00af00; text-decoration-color: #00af00\">4,800</span> │\n├─────────────────────────────────┼────────────────────────┼───────────────┤\n│ dense_13 (<span style=\"color: #0087ff; text-decoration-color: #0087ff\">Dense</span>)                │ (<span style=\"color: #00d7ff; text-decoration-color: #00d7ff\">None</span>, <span style=\"color: #00af00; text-decoration-color: #00af00\">48</span>)             │        <span style=\"color: #00af00; text-decoration-color: #00af00\">23,088</span> │\n├─────────────────────────────────┼────────────────────────┼───────────────┤\n│ dropout_8 (<span style=\"color: #0087ff; text-decoration-color: #0087ff\">Dropout</span>)             │ (<span style=\"color: #00d7ff; text-decoration-color: #00d7ff\">None</span>, <span style=\"color: #00af00; text-decoration-color: #00af00\">48</span>)             │             <span style=\"color: #00af00; text-decoration-color: #00af00\">0</span> │\n├─────────────────────────────────┼────────────────────────┼───────────────┤\n│ dense_14 (<span style=\"color: #0087ff; text-decoration-color: #0087ff\">Dense</span>)                │ (<span style=\"color: #00d7ff; text-decoration-color: #00d7ff\">None</span>, <span style=\"color: #00af00; text-decoration-color: #00af00\">240</span>)            │        <span style=\"color: #00af00; text-decoration-color: #00af00\">11,760</span> │\n├─────────────────────────────────┼────────────────────────┼───────────────┤\n│ dropout_9 (<span style=\"color: #0087ff; text-decoration-color: #0087ff\">Dropout</span>)             │ (<span style=\"color: #00d7ff; text-decoration-color: #00d7ff\">None</span>, <span style=\"color: #00af00; text-decoration-color: #00af00\">240</span>)            │             <span style=\"color: #00af00; text-decoration-color: #00af00\">0</span> │\n├─────────────────────────────────┼────────────────────────┼───────────────┤\n│ dense_15 (<span style=\"color: #0087ff; text-decoration-color: #0087ff\">Dense</span>)                │ (<span style=\"color: #00d7ff; text-decoration-color: #00d7ff\">None</span>, <span style=\"color: #00af00; text-decoration-color: #00af00\">176</span>)            │        <span style=\"color: #00af00; text-decoration-color: #00af00\">42,416</span> │\n├─────────────────────────────────┼────────────────────────┼───────────────┤\n│ dropout_10 (<span style=\"color: #0087ff; text-decoration-color: #0087ff\">Dropout</span>)            │ (<span style=\"color: #00d7ff; text-decoration-color: #00d7ff\">None</span>, <span style=\"color: #00af00; text-decoration-color: #00af00\">176</span>)            │             <span style=\"color: #00af00; text-decoration-color: #00af00\">0</span> │\n├─────────────────────────────────┼────────────────────────┼───────────────┤\n│ dense_16 (<span style=\"color: #0087ff; text-decoration-color: #0087ff\">Dense</span>)                │ (<span style=\"color: #00d7ff; text-decoration-color: #00d7ff\">None</span>, <span style=\"color: #00af00; text-decoration-color: #00af00\">3</span>)              │           <span style=\"color: #00af00; text-decoration-color: #00af00\">531</span> │\n└─────────────────────────────────┴────────────────────────┴───────────────┘\n</pre>\n"
     },
     "metadata": {},
     "output_type": "display_data"
    },
    {
     "data": {
      "text/plain": "\u001B[1m Total params: \u001B[0m\u001B[38;5;34m247,787\u001B[0m (967.92 KB)\n",
      "text/html": "<pre style=\"white-space:pre;overflow-x:auto;line-height:normal;font-family:Menlo,'DejaVu Sans Mono',consolas,'Courier New',monospace\"><span style=\"font-weight: bold\"> Total params: </span><span style=\"color: #00af00; text-decoration-color: #00af00\">247,787</span> (967.92 KB)\n</pre>\n"
     },
     "metadata": {},
     "output_type": "display_data"
    },
    {
     "data": {
      "text/plain": "\u001B[1m Trainable params: \u001B[0m\u001B[38;5;34m82,595\u001B[0m (322.64 KB)\n",
      "text/html": "<pre style=\"white-space:pre;overflow-x:auto;line-height:normal;font-family:Menlo,'DejaVu Sans Mono',consolas,'Courier New',monospace\"><span style=\"font-weight: bold\"> Trainable params: </span><span style=\"color: #00af00; text-decoration-color: #00af00\">82,595</span> (322.64 KB)\n</pre>\n"
     },
     "metadata": {},
     "output_type": "display_data"
    },
    {
     "data": {
      "text/plain": "\u001B[1m Non-trainable params: \u001B[0m\u001B[38;5;34m0\u001B[0m (0.00 B)\n",
      "text/html": "<pre style=\"white-space:pre;overflow-x:auto;line-height:normal;font-family:Menlo,'DejaVu Sans Mono',consolas,'Courier New',monospace\"><span style=\"font-weight: bold\"> Non-trainable params: </span><span style=\"color: #00af00; text-decoration-color: #00af00\">0</span> (0.00 B)\n</pre>\n"
     },
     "metadata": {},
     "output_type": "display_data"
    },
    {
     "data": {
      "text/plain": "\u001B[1m Optimizer params: \u001B[0m\u001B[38;5;34m165,192\u001B[0m (645.29 KB)\n",
      "text/html": "<pre style=\"white-space:pre;overflow-x:auto;line-height:normal;font-family:Menlo,'DejaVu Sans Mono',consolas,'Courier New',monospace\"><span style=\"font-weight: bold\"> Optimizer params: </span><span style=\"color: #00af00; text-decoration-color: #00af00\">165,192</span> (645.29 KB)\n</pre>\n"
     },
     "metadata": {},
     "output_type": "display_data"
    }
   ],
   "source": [
    "hype_dnn.summary()"
   ],
   "metadata": {
    "collapsed": false,
    "ExecuteTime": {
     "end_time": "2024-04-10T15:14:57.135098100Z",
     "start_time": "2024-04-10T15:14:57.120654700Z"
    }
   },
   "id": "94c6eb484ee9bc19"
  },
  {
   "cell_type": "code",
   "execution_count": 195,
   "outputs": [],
   "source": [
    "hype_dnn.save('models/stellar_class_dnn.keras')"
   ],
   "metadata": {
    "collapsed": false,
    "ExecuteTime": {
     "end_time": "2024-04-10T16:46:09.765816900Z",
     "start_time": "2024-04-10T16:46:09.702605500Z"
    }
   },
   "id": "9ac2cd279a4fe392"
  },
  {
   "cell_type": "markdown",
   "source": [
    "# Conclusions\n",
    "\n",
    "After building, tuning, training, and evaluating both models, several key observations emerge from comparing the two. During training on my local machine, I closely monitored their resource usage. Tuning the hyperparameters for the gradient booster proved to be more computationally intensive compared to the process for the DNN. In terms of user-friendliness, the XGBoost Classifier excels due to its straightforward interpretability and out-of-the-box functionality, which surpasses that of the DNN. The XGBoost model required no standardization before training, nor did it need additional steps to generate actual outputs. In contrast, the DNN's outputs needed to pass through an argmax function before proper testing or evaluation. While the XGBoost model adapted quite well to the unbalanced data, the DNN struggled and would require additional tuning and oversampling techniques such as SMOTE or ADASYN to generalize better over unseen data, particularly when dealing with the minority class."
   ],
   "metadata": {
    "collapsed": false
   },
   "id": "4fce0097e179f97e"
  },
  {
   "cell_type": "code",
   "execution_count": null,
   "outputs": [],
   "source": [],
   "metadata": {
    "collapsed": false
   },
   "id": "7d5a9e8be4c06cab"
  }
 ],
 "metadata": {
  "kernelspec": {
   "display_name": "Python 3",
   "language": "python",
   "name": "python3"
  },
  "language_info": {
   "codemirror_mode": {
    "name": "ipython",
    "version": 2
   },
   "file_extension": ".py",
   "mimetype": "text/x-python",
   "name": "python",
   "nbconvert_exporter": "python",
   "pygments_lexer": "ipython2",
   "version": "2.7.6"
  }
 },
 "nbformat": 4,
 "nbformat_minor": 5
}
